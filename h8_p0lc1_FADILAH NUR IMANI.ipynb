{
 "cells": [
  {
   "cell_type": "markdown",
   "metadata": {
    "toc": true
   },
   "source": [
    "<h1>Table of Contents<span class=\"tocSkip\"></span></h1>\n",
    "<div class=\"toc\"><ul class=\"toc-item\"><li><span><a href=\"#Perkenalan\" data-toc-modified-id=\"Perkenalan-1\"><span class=\"toc-item-num\">1&nbsp;&nbsp;</span>Perkenalan</a></span></li><li><span><a href=\"#Hitung-Hambatan/Resistansi-&amp;-Daya-setiap-detik-dengan-konsep:-Looping,Conditional-if,-dan-Pandas-Query\" data-toc-modified-id=\"Hitung-Hambatan/Resistansi-&amp;-Daya-setiap-detik-dengan-konsep:-Looping,Conditional-if,-dan-Pandas-Query-2\"><span class=\"toc-item-num\">2&nbsp;&nbsp;</span>Hitung Hambatan/Resistansi &amp; Daya setiap detik dengan konsep: Looping,Conditional if, dan Pandas Query</a></span></li><li><span><a href=\"#Import\" data-toc-modified-id=\"Import-3\"><span class=\"toc-item-num\">3&nbsp;&nbsp;</span>Import</a></span></li><li><span><a href=\"#Data-Loading\" data-toc-modified-id=\"Data-Loading-4\"><span class=\"toc-item-num\">4&nbsp;&nbsp;</span>Data Loading</a></span><ul class=\"toc-item\"><li><span><a href=\"#Keterangan-Kolom:\" data-toc-modified-id=\"Keterangan-Kolom:-4.1\"><span class=\"toc-item-num\">4.1&nbsp;&nbsp;</span>Keterangan Kolom:</a></span></li><li><span><a href=\"#Dataset-Exploration\" data-toc-modified-id=\"Dataset-Exploration-4.2\"><span class=\"toc-item-num\">4.2&nbsp;&nbsp;</span>Dataset Exploration</a></span></li></ul></li><li><span><a href=\"#Answer\" data-toc-modified-id=\"Answer-5\"><span class=\"toc-item-num\">5&nbsp;&nbsp;</span>Answer</a></span></li><li><span><a href=\"#Hasil\" data-toc-modified-id=\"Hasil-6\"><span class=\"toc-item-num\">6&nbsp;&nbsp;</span>Hasil</a></span><ul class=\"toc-item\"><li><span><a href=\"#Hasil-Hitung-Hambatan\" data-toc-modified-id=\"Hasil-Hitung-Hambatan-6.1\"><span class=\"toc-item-num\">6.1&nbsp;&nbsp;</span>Hasil Hitung Hambatan</a></span></li><li><span><a href=\"#Hasil-Hitung-Daya\" data-toc-modified-id=\"Hasil-Hitung-Daya-6.2\"><span class=\"toc-item-num\">6.2&nbsp;&nbsp;</span>Hasil Hitung Daya</a></span></li><li><span><a href=\"#Asignment-Rubrics\" data-toc-modified-id=\"Asignment-Rubrics-6.3\"><span class=\"toc-item-num\">6.3&nbsp;&nbsp;</span>Asignment Rubrics</a></span><ul class=\"toc-item\"><li><span><a href=\"#Code-Review\" data-toc-modified-id=\"Code-Review-6.3.1\"><span class=\"toc-item-num\">6.3.1&nbsp;&nbsp;</span>Code Review</a></span></li><li><span><a href=\"#Readability\" data-toc-modified-id=\"Readability-6.3.2\"><span class=\"toc-item-num\">6.3.2&nbsp;&nbsp;</span>Readability</a></span></li></ul></li></ul></li></ul></div>"
   ]
  },
  {
   "cell_type": "markdown",
   "metadata": {},
   "source": [
    "# Perkenalan"
   ]
  },
  {
   "cell_type": "markdown",
   "metadata": {},
   "source": [
    "Nama: **Fadilah Nur Imani**"
   ]
  },
  {
   "cell_type": "markdown",
   "metadata": {},
   "source": [
    "# Hitung Hambatan/Resistansi & Daya setiap detik dengan konsep: Looping,Conditional if, dan Pandas Query"
   ]
  },
  {
   "cell_type": "markdown",
   "metadata": {},
   "source": [
    "**Instruksi:** Hitung hambatan baterai tiap waktunya untuk cycle ganjil dan daya baterai tiap waktunya untuk cycle genap dari dataset.\n",
    "1. Gunakan function untuk menghitung hambatan dan daya\n",
    "2. Harus menerapkan konsep looping, conditional if, dan pandas query"
   ]
  },
  {
   "cell_type": "markdown",
   "metadata": {},
   "source": [
    "# Import"
   ]
  },
  {
   "cell_type": "markdown",
   "metadata": {},
   "source": [
    "Melakukan import library yang akan digunakan."
   ]
  },
  {
   "cell_type": "code",
   "execution_count": 1,
   "metadata": {
    "ExecuteTime": {
     "end_time": "2021-07-05T04:07:46.575117Z",
     "start_time": "2021-07-05T04:07:39.060681Z"
    }
   },
   "outputs": [],
   "source": [
    "import pandas as pd\n",
    "import numpy as np"
   ]
  },
  {
   "cell_type": "markdown",
   "metadata": {},
   "source": [
    "# Data Loading"
   ]
  },
  {
   "cell_type": "markdown",
   "metadata": {
    "ExecuteTime": {
     "end_time": "2021-07-05T04:13:58.228911Z",
     "start_time": "2021-07-05T04:13:58.212953Z"
    }
   },
   "source": [
    "Membuka data yang akan digunakan."
   ]
  },
  {
   "cell_type": "code",
   "execution_count": 2,
   "metadata": {
    "ExecuteTime": {
     "end_time": "2021-07-05T04:07:56.988831Z",
     "start_time": "2021-07-05T04:07:46.578077Z"
    }
   },
   "outputs": [],
   "source": [
    "data = pd.read_excel('data/NMC1-9.xlsx')"
   ]
  },
  {
   "cell_type": "markdown",
   "metadata": {},
   "source": [
    "## Keterangan Kolom:"
   ]
  },
  {
   "cell_type": "markdown",
   "metadata": {},
   "source": [
    "Menampilkan keterangan kolom agar mudah dipahami."
   ]
  },
  {
   "cell_type": "markdown",
   "metadata": {},
   "source": [
    "- time(s): Detik ke- pengukuran\n",
    "- V_m: Voltage/tegangan yang terukur tiap waktu\n",
    "- Current (A): Kuat arus terukur tiap waktu\n",
    "- Cycle: Nomor siklus charge-discharge baterai\n",
    "- Cap: Kapasitas baterai tiap waktu"
   ]
  },
  {
   "cell_type": "markdown",
   "metadata": {},
   "source": [
    "## Dataset Exploration"
   ]
  },
  {
   "cell_type": "markdown",
   "metadata": {},
   "source": [
    "Melakukan eksplorasi pada dataset dan analisis statistik deskriptif."
   ]
  },
  {
   "cell_type": "code",
   "execution_count": 3,
   "metadata": {
    "ExecuteTime": {
     "end_time": "2021-07-05T04:07:57.185982Z",
     "start_time": "2021-07-05T04:07:56.988831Z"
    }
   },
   "outputs": [
    {
     "data": {
      "text/html": [
       "<div>\n",
       "<style scoped>\n",
       "    .dataframe tbody tr th:only-of-type {\n",
       "        vertical-align: middle;\n",
       "    }\n",
       "\n",
       "    .dataframe tbody tr th {\n",
       "        vertical-align: top;\n",
       "    }\n",
       "\n",
       "    .dataframe thead th {\n",
       "        text-align: right;\n",
       "    }\n",
       "</style>\n",
       "<table border=\"1\" class=\"dataframe\">\n",
       "  <thead>\n",
       "    <tr style=\"text-align: right;\">\n",
       "      <th></th>\n",
       "      <th>time(s)</th>\n",
       "      <th>V_m</th>\n",
       "      <th>Current (A)</th>\n",
       "      <th>Cycle</th>\n",
       "      <th>Cap</th>\n",
       "    </tr>\n",
       "  </thead>\n",
       "  <tbody>\n",
       "    <tr>\n",
       "      <th>0</th>\n",
       "      <td>0</td>\n",
       "      <td>4.098</td>\n",
       "      <td>0.997</td>\n",
       "      <td>1</td>\n",
       "      <td>2.840817</td>\n",
       "    </tr>\n",
       "    <tr>\n",
       "      <th>1</th>\n",
       "      <td>1</td>\n",
       "      <td>4.096</td>\n",
       "      <td>0.998</td>\n",
       "      <td>1</td>\n",
       "      <td>2.840817</td>\n",
       "    </tr>\n",
       "    <tr>\n",
       "      <th>2</th>\n",
       "      <td>2</td>\n",
       "      <td>4.094</td>\n",
       "      <td>0.999</td>\n",
       "      <td>1</td>\n",
       "      <td>2.840817</td>\n",
       "    </tr>\n",
       "    <tr>\n",
       "      <th>3</th>\n",
       "      <td>3</td>\n",
       "      <td>4.093</td>\n",
       "      <td>0.998</td>\n",
       "      <td>1</td>\n",
       "      <td>2.840817</td>\n",
       "    </tr>\n",
       "    <tr>\n",
       "      <th>4</th>\n",
       "      <td>4</td>\n",
       "      <td>4.092</td>\n",
       "      <td>0.999</td>\n",
       "      <td>1</td>\n",
       "      <td>2.840817</td>\n",
       "    </tr>\n",
       "    <tr>\n",
       "      <th>...</th>\n",
       "      <td>...</td>\n",
       "      <td>...</td>\n",
       "      <td>...</td>\n",
       "      <td>...</td>\n",
       "      <td>...</td>\n",
       "    </tr>\n",
       "    <tr>\n",
       "      <th>90977</th>\n",
       "      <td>90977</td>\n",
       "      <td>2.506</td>\n",
       "      <td>1.002</td>\n",
       "      <td>9</td>\n",
       "      <td>2.770180</td>\n",
       "    </tr>\n",
       "    <tr>\n",
       "      <th>90978</th>\n",
       "      <td>90978</td>\n",
       "      <td>2.504</td>\n",
       "      <td>1.002</td>\n",
       "      <td>9</td>\n",
       "      <td>2.770180</td>\n",
       "    </tr>\n",
       "    <tr>\n",
       "      <th>90979</th>\n",
       "      <td>90979</td>\n",
       "      <td>2.502</td>\n",
       "      <td>1.002</td>\n",
       "      <td>9</td>\n",
       "      <td>2.770180</td>\n",
       "    </tr>\n",
       "    <tr>\n",
       "      <th>90980</th>\n",
       "      <td>90980</td>\n",
       "      <td>2.500</td>\n",
       "      <td>1.002</td>\n",
       "      <td>9</td>\n",
       "      <td>2.770180</td>\n",
       "    </tr>\n",
       "    <tr>\n",
       "      <th>90981</th>\n",
       "      <td>90981</td>\n",
       "      <td>2.497</td>\n",
       "      <td>1.002</td>\n",
       "      <td>9</td>\n",
       "      <td>2.770180</td>\n",
       "    </tr>\n",
       "  </tbody>\n",
       "</table>\n",
       "<p>90982 rows × 5 columns</p>\n",
       "</div>"
      ],
      "text/plain": [
       "       time(s)    V_m  Current (A)  Cycle       Cap\n",
       "0            0  4.098        0.997      1  2.840817\n",
       "1            1  4.096        0.998      1  2.840817\n",
       "2            2  4.094        0.999      1  2.840817\n",
       "3            3  4.093        0.998      1  2.840817\n",
       "4            4  4.092        0.999      1  2.840817\n",
       "...        ...    ...          ...    ...       ...\n",
       "90977    90977  2.506        1.002      9  2.770180\n",
       "90978    90978  2.504        1.002      9  2.770180\n",
       "90979    90979  2.502        1.002      9  2.770180\n",
       "90980    90980  2.500        1.002      9  2.770180\n",
       "90981    90981  2.497        1.002      9  2.770180\n",
       "\n",
       "[90982 rows x 5 columns]"
      ]
     },
     "execution_count": 3,
     "metadata": {},
     "output_type": "execute_result"
    }
   ],
   "source": [
    "data"
   ]
  },
  {
   "cell_type": "code",
   "execution_count": 4,
   "metadata": {
    "ExecuteTime": {
     "end_time": "2021-07-05T04:07:57.205928Z",
     "start_time": "2021-07-05T04:07:57.191966Z"
    }
   },
   "outputs": [
    {
     "name": "stdout",
     "output_type": "stream",
     "text": [
      "Jumlah baris: 90982 \n",
      "Jumlah Kolom: 5\n"
     ]
    }
   ],
   "source": [
    "print('Jumlah baris:', data.shape[0], '\\nJumlah Kolom:', data.shape[1])"
   ]
  },
  {
   "cell_type": "markdown",
   "metadata": {},
   "source": [
    "Dapat dilihat bahwa data ini memiliki 90.982 baris data dan 5 kolom."
   ]
  },
  {
   "cell_type": "code",
   "execution_count": 5,
   "metadata": {
    "ExecuteTime": {
     "end_time": "2021-07-05T04:07:57.236846Z",
     "start_time": "2021-07-05T04:07:57.212910Z"
    }
   },
   "outputs": [
    {
     "name": "stdout",
     "output_type": "stream",
     "text": [
      "<class 'pandas.core.frame.DataFrame'>\n",
      "RangeIndex: 90982 entries, 0 to 90981\n",
      "Data columns (total 5 columns):\n",
      " #   Column       Non-Null Count  Dtype  \n",
      "---  ------       --------------  -----  \n",
      " 0   time(s)      90982 non-null  int64  \n",
      " 1   V_m          90982 non-null  float64\n",
      " 2   Current (A)  90982 non-null  float64\n",
      " 3   Cycle        90982 non-null  int64  \n",
      " 4   Cap          90982 non-null  float64\n",
      "dtypes: float64(3), int64(2)\n",
      "memory usage: 3.5 MB\n"
     ]
    }
   ],
   "source": [
    "data.info()"
   ]
  },
  {
   "cell_type": "markdown",
   "metadata": {},
   "source": [
    "- Dari sana terlihat bahwa dataset inii tidak memiliki nilai null pada seluruh kolomnya.\n",
    "- Dataset terdiri dari 2 kolom dengan tipe data integer dan 3 kolom dengan tipe data float."
   ]
  },
  {
   "cell_type": "code",
   "execution_count": 6,
   "metadata": {
    "ExecuteTime": {
     "end_time": "2021-07-05T04:07:57.375499Z",
     "start_time": "2021-07-05T04:07:57.240835Z"
    }
   },
   "outputs": [
    {
     "data": {
      "text/html": [
       "<div>\n",
       "<style scoped>\n",
       "    .dataframe tbody tr th:only-of-type {\n",
       "        vertical-align: middle;\n",
       "    }\n",
       "\n",
       "    .dataframe tbody tr th {\n",
       "        vertical-align: top;\n",
       "    }\n",
       "\n",
       "    .dataframe thead th {\n",
       "        text-align: right;\n",
       "    }\n",
       "</style>\n",
       "<table border=\"1\" class=\"dataframe\">\n",
       "  <thead>\n",
       "    <tr style=\"text-align: right;\">\n",
       "      <th></th>\n",
       "      <th>count</th>\n",
       "      <th>mean</th>\n",
       "      <th>std</th>\n",
       "      <th>min</th>\n",
       "      <th>25%</th>\n",
       "      <th>50%</th>\n",
       "      <th>75%</th>\n",
       "      <th>max</th>\n",
       "    </tr>\n",
       "  </thead>\n",
       "  <tbody>\n",
       "    <tr>\n",
       "      <th>time(s)</th>\n",
       "      <td>90982.0</td>\n",
       "      <td>45490.500000</td>\n",
       "      <td>26264.385433</td>\n",
       "      <td>0.00000</td>\n",
       "      <td>22745.25000</td>\n",
       "      <td>45490.500000</td>\n",
       "      <td>68235.75000</td>\n",
       "      <td>90981.000000</td>\n",
       "    </tr>\n",
       "    <tr>\n",
       "      <th>V_m</th>\n",
       "      <td>90982.0</td>\n",
       "      <td>3.607666</td>\n",
       "      <td>0.322777</td>\n",
       "      <td>2.49700</td>\n",
       "      <td>3.42200</td>\n",
       "      <td>3.636000</td>\n",
       "      <td>3.86800</td>\n",
       "      <td>4.114000</td>\n",
       "    </tr>\n",
       "    <tr>\n",
       "      <th>Current (A)</th>\n",
       "      <td>90982.0</td>\n",
       "      <td>0.999264</td>\n",
       "      <td>0.001997</td>\n",
       "      <td>0.99300</td>\n",
       "      <td>0.99700</td>\n",
       "      <td>0.999000</td>\n",
       "      <td>1.00100</td>\n",
       "      <td>1.003000</td>\n",
       "    </tr>\n",
       "    <tr>\n",
       "      <th>Cycle</th>\n",
       "      <td>90982.0</td>\n",
       "      <td>4.978699</td>\n",
       "      <td>2.582135</td>\n",
       "      <td>1.00000</td>\n",
       "      <td>3.00000</td>\n",
       "      <td>5.000000</td>\n",
       "      <td>7.00000</td>\n",
       "      <td>9.000000</td>\n",
       "    </tr>\n",
       "    <tr>\n",
       "      <th>Cap</th>\n",
       "      <td>90982.0</td>\n",
       "      <td>2.806214</td>\n",
       "      <td>0.023283</td>\n",
       "      <td>2.77018</td>\n",
       "      <td>2.78686</td>\n",
       "      <td>2.804878</td>\n",
       "      <td>2.82352</td>\n",
       "      <td>2.840817</td>\n",
       "    </tr>\n",
       "  </tbody>\n",
       "</table>\n",
       "</div>"
      ],
      "text/plain": [
       "               count          mean           std      min          25%  \\\n",
       "time(s)      90982.0  45490.500000  26264.385433  0.00000  22745.25000   \n",
       "V_m          90982.0      3.607666      0.322777  2.49700      3.42200   \n",
       "Current (A)  90982.0      0.999264      0.001997  0.99300      0.99700   \n",
       "Cycle        90982.0      4.978699      2.582135  1.00000      3.00000   \n",
       "Cap          90982.0      2.806214      0.023283  2.77018      2.78686   \n",
       "\n",
       "                      50%          75%           max  \n",
       "time(s)      45490.500000  68235.75000  90981.000000  \n",
       "V_m              3.636000      3.86800      4.114000  \n",
       "Current (A)      0.999000      1.00100      1.003000  \n",
       "Cycle            5.000000      7.00000      9.000000  \n",
       "Cap              2.804878      2.82352      2.840817  "
      ]
     },
     "execution_count": 6,
     "metadata": {},
     "output_type": "execute_result"
    }
   ],
   "source": [
    "data.describe().T"
   ]
  },
  {
   "cell_type": "markdown",
   "metadata": {},
   "source": [
    "Nilai di atas adalah hasil analisis statistika deskriptif pada dataset."
   ]
  },
  {
   "cell_type": "markdown",
   "metadata": {
    "ExecuteTime": {
     "end_time": "2021-07-05T04:25:02.128420Z",
     "start_time": "2021-07-05T04:25:02.119442Z"
    }
   },
   "source": [
    "Mari coba lakukan eksplorasi terhadap kapasitas baterai yang ada di dataset.\n",
    "- Berapa banyak data yang memiliki kapasitas di bawah rata-rata?"
   ]
  },
  {
   "cell_type": "code",
   "execution_count": 39,
   "metadata": {
    "ExecuteTime": {
     "end_time": "2021-07-05T04:26:40.616380Z",
     "start_time": "2021-07-05T04:26:40.572495Z"
    }
   },
   "outputs": [
    {
     "data": {
      "text/html": [
       "<div>\n",
       "<style scoped>\n",
       "    .dataframe tbody tr th:only-of-type {\n",
       "        vertical-align: middle;\n",
       "    }\n",
       "\n",
       "    .dataframe tbody tr th {\n",
       "        vertical-align: top;\n",
       "    }\n",
       "\n",
       "    .dataframe thead th {\n",
       "        text-align: right;\n",
       "    }\n",
       "</style>\n",
       "<table border=\"1\" class=\"dataframe\">\n",
       "  <thead>\n",
       "    <tr style=\"text-align: right;\">\n",
       "      <th></th>\n",
       "      <th>time(s)</th>\n",
       "      <th>V_m</th>\n",
       "      <th>Current (A)</th>\n",
       "      <th>Cycle</th>\n",
       "      <th>Cap</th>\n",
       "    </tr>\n",
       "  </thead>\n",
       "  <tbody>\n",
       "    <tr>\n",
       "      <th>40776</th>\n",
       "      <td>40776</td>\n",
       "      <td>4.112</td>\n",
       "      <td>0.997</td>\n",
       "      <td>5</td>\n",
       "      <td>2.804878</td>\n",
       "    </tr>\n",
       "    <tr>\n",
       "      <th>40777</th>\n",
       "      <td>40777</td>\n",
       "      <td>4.110</td>\n",
       "      <td>0.999</td>\n",
       "      <td>5</td>\n",
       "      <td>2.804878</td>\n",
       "    </tr>\n",
       "    <tr>\n",
       "      <th>40778</th>\n",
       "      <td>40778</td>\n",
       "      <td>4.109</td>\n",
       "      <td>0.998</td>\n",
       "      <td>5</td>\n",
       "      <td>2.804878</td>\n",
       "    </tr>\n",
       "    <tr>\n",
       "      <th>40779</th>\n",
       "      <td>40779</td>\n",
       "      <td>4.108</td>\n",
       "      <td>0.999</td>\n",
       "      <td>5</td>\n",
       "      <td>2.804878</td>\n",
       "    </tr>\n",
       "    <tr>\n",
       "      <th>40780</th>\n",
       "      <td>40780</td>\n",
       "      <td>4.107</td>\n",
       "      <td>1.000</td>\n",
       "      <td>5</td>\n",
       "      <td>2.804878</td>\n",
       "    </tr>\n",
       "    <tr>\n",
       "      <th>...</th>\n",
       "      <td>...</td>\n",
       "      <td>...</td>\n",
       "      <td>...</td>\n",
       "      <td>...</td>\n",
       "      <td>...</td>\n",
       "    </tr>\n",
       "    <tr>\n",
       "      <th>90977</th>\n",
       "      <td>90977</td>\n",
       "      <td>2.506</td>\n",
       "      <td>1.002</td>\n",
       "      <td>9</td>\n",
       "      <td>2.770180</td>\n",
       "    </tr>\n",
       "    <tr>\n",
       "      <th>90978</th>\n",
       "      <td>90978</td>\n",
       "      <td>2.504</td>\n",
       "      <td>1.002</td>\n",
       "      <td>9</td>\n",
       "      <td>2.770180</td>\n",
       "    </tr>\n",
       "    <tr>\n",
       "      <th>90979</th>\n",
       "      <td>90979</td>\n",
       "      <td>2.502</td>\n",
       "      <td>1.002</td>\n",
       "      <td>9</td>\n",
       "      <td>2.770180</td>\n",
       "    </tr>\n",
       "    <tr>\n",
       "      <th>90980</th>\n",
       "      <td>90980</td>\n",
       "      <td>2.500</td>\n",
       "      <td>1.002</td>\n",
       "      <td>9</td>\n",
       "      <td>2.770180</td>\n",
       "    </tr>\n",
       "    <tr>\n",
       "      <th>90981</th>\n",
       "      <td>90981</td>\n",
       "      <td>2.497</td>\n",
       "      <td>1.002</td>\n",
       "      <td>9</td>\n",
       "      <td>2.770180</td>\n",
       "    </tr>\n",
       "  </tbody>\n",
       "</table>\n",
       "<p>50206 rows × 5 columns</p>\n",
       "</div>"
      ],
      "text/plain": [
       "       time(s)    V_m  Current (A)  Cycle       Cap\n",
       "40776    40776  4.112        0.997      5  2.804878\n",
       "40777    40777  4.110        0.999      5  2.804878\n",
       "40778    40778  4.109        0.998      5  2.804878\n",
       "40779    40779  4.108        0.999      5  2.804878\n",
       "40780    40780  4.107        1.000      5  2.804878\n",
       "...        ...    ...          ...    ...       ...\n",
       "90977    90977  2.506        1.002      9  2.770180\n",
       "90978    90978  2.504        1.002      9  2.770180\n",
       "90979    90979  2.502        1.002      9  2.770180\n",
       "90980    90980  2.500        1.002      9  2.770180\n",
       "90981    90981  2.497        1.002      9  2.770180\n",
       "\n",
       "[50206 rows x 5 columns]"
      ]
     },
     "execution_count": 39,
     "metadata": {},
     "output_type": "execute_result"
    }
   ],
   "source": [
    "data[data['Cap'] < 2.806214][['time(s)', 'V_m', 'Current (A)', 'Cycle', 'Cap']]"
   ]
  },
  {
   "cell_type": "code",
   "execution_count": 40,
   "metadata": {
    "ExecuteTime": {
     "end_time": "2021-07-05T04:26:52.340754Z",
     "start_time": "2021-07-05T04:26:52.322800Z"
    }
   },
   "outputs": [
    {
     "data": {
      "text/plain": [
       "50206"
      ]
     },
     "execution_count": 40,
     "metadata": {},
     "output_type": "execute_result"
    }
   ],
   "source": [
    "data[data['Cap'] < 2.806214][['time(s)', 'V_m', 'Current (A)', 'Cycle', 'Cap']].count()['Cap']"
   ]
  },
  {
   "cell_type": "markdown",
   "metadata": {},
   "source": [
    "Ada 50.206 data yang memiliki kapasitas di bawah rata-rata yang ada di dataset ini."
   ]
  },
  {
   "cell_type": "markdown",
   "metadata": {},
   "source": [
    "# Answer"
   ]
  },
  {
   "cell_type": "markdown",
   "metadata": {},
   "source": [
    "Menampilkan 5 data teratas untuk melihat gambaran dataset."
   ]
  },
  {
   "cell_type": "code",
   "execution_count": 7,
   "metadata": {
    "ExecuteTime": {
     "end_time": "2021-07-05T04:07:57.404398Z",
     "start_time": "2021-07-05T04:07:57.380462Z"
    }
   },
   "outputs": [
    {
     "data": {
      "text/html": [
       "<div>\n",
       "<style scoped>\n",
       "    .dataframe tbody tr th:only-of-type {\n",
       "        vertical-align: middle;\n",
       "    }\n",
       "\n",
       "    .dataframe tbody tr th {\n",
       "        vertical-align: top;\n",
       "    }\n",
       "\n",
       "    .dataframe thead th {\n",
       "        text-align: right;\n",
       "    }\n",
       "</style>\n",
       "<table border=\"1\" class=\"dataframe\">\n",
       "  <thead>\n",
       "    <tr style=\"text-align: right;\">\n",
       "      <th></th>\n",
       "      <th>time(s)</th>\n",
       "      <th>V_m</th>\n",
       "      <th>Current (A)</th>\n",
       "      <th>Cycle</th>\n",
       "      <th>Cap</th>\n",
       "    </tr>\n",
       "  </thead>\n",
       "  <tbody>\n",
       "    <tr>\n",
       "      <th>0</th>\n",
       "      <td>0</td>\n",
       "      <td>4.098</td>\n",
       "      <td>0.997</td>\n",
       "      <td>1</td>\n",
       "      <td>2.840817</td>\n",
       "    </tr>\n",
       "    <tr>\n",
       "      <th>1</th>\n",
       "      <td>1</td>\n",
       "      <td>4.096</td>\n",
       "      <td>0.998</td>\n",
       "      <td>1</td>\n",
       "      <td>2.840817</td>\n",
       "    </tr>\n",
       "    <tr>\n",
       "      <th>2</th>\n",
       "      <td>2</td>\n",
       "      <td>4.094</td>\n",
       "      <td>0.999</td>\n",
       "      <td>1</td>\n",
       "      <td>2.840817</td>\n",
       "    </tr>\n",
       "    <tr>\n",
       "      <th>3</th>\n",
       "      <td>3</td>\n",
       "      <td>4.093</td>\n",
       "      <td>0.998</td>\n",
       "      <td>1</td>\n",
       "      <td>2.840817</td>\n",
       "    </tr>\n",
       "    <tr>\n",
       "      <th>4</th>\n",
       "      <td>4</td>\n",
       "      <td>4.092</td>\n",
       "      <td>0.999</td>\n",
       "      <td>1</td>\n",
       "      <td>2.840817</td>\n",
       "    </tr>\n",
       "  </tbody>\n",
       "</table>\n",
       "</div>"
      ],
      "text/plain": [
       "   time(s)    V_m  Current (A)  Cycle       Cap\n",
       "0        0  4.098        0.997      1  2.840817\n",
       "1        1  4.096        0.998      1  2.840817\n",
       "2        2  4.094        0.999      1  2.840817\n",
       "3        3  4.093        0.998      1  2.840817\n",
       "4        4  4.092        0.999      1  2.840817"
      ]
     },
     "execution_count": 7,
     "metadata": {},
     "output_type": "execute_result"
    }
   ],
   "source": [
    "data.head()"
   ]
  },
  {
   "cell_type": "markdown",
   "metadata": {
    "ExecuteTime": {
     "end_time": "2021-07-05T04:28:13.728782Z",
     "start_time": "2021-07-05T04:28:13.721800Z"
    }
   },
   "source": [
    "Membuat fungsi untuk menghitung hambatan dan daya dengan rumus yang telah ditentukan."
   ]
  },
  {
   "cell_type": "markdown",
   "metadata": {
    "ExecuteTime": {
     "end_time": "2021-07-05T04:29:23.480534Z",
     "start_time": "2021-07-05T04:29:22.847631Z"
    }
   },
   "source": [
    "![title](https://camo.githubusercontent.com/65a4ab2624465aef953d58449a551d54a0322baba1fc3aeafebc0506e937e170/68747470733a2f2f6c617465782e636f6465636f67732e636f6d2f706e672e6c617465783f523d5c667261637b567d7b497d)\n",
    "\n",
    "![title](https://camo.githubusercontent.com/d6bc770edcd27e99961cb0ca5e61c0d8e130d915270441e584213eed3018f549/68747470733a2f2f6c617465782e636f6465636f67732e636f6d2f706e672e6c617465783f503d5649)"
   ]
  },
  {
   "cell_type": "markdown",
   "metadata": {},
   "source": [
    "- R adalah Hambatan dalam satuan Ohm\n",
    "- P adalah Daya dalam Watt\n",
    "- I adalah kuat arus dalam satuan Ampere\n",
    "- V adalah tegangan dalam satuan Volt"
   ]
  },
  {
   "cell_type": "code",
   "execution_count": 8,
   "metadata": {
    "ExecuteTime": {
     "end_time": "2021-07-05T04:07:57.426341Z",
     "start_time": "2021-07-05T04:07:57.413375Z"
    }
   },
   "outputs": [],
   "source": [
    "def hambatan(V, I):\n",
    "    \"Menghitung hambatan baterai dalam Ohm\"\n",
    "    R = V / I\n",
    "    return R"
   ]
  },
  {
   "cell_type": "code",
   "execution_count": 9,
   "metadata": {
    "ExecuteTime": {
     "end_time": "2021-07-05T04:07:57.448282Z",
     "start_time": "2021-07-05T04:07:57.437311Z"
    }
   },
   "outputs": [],
   "source": [
    "def daya(V, I):\n",
    "    \"Menghitung daya baterai dalam Watt\"\n",
    "    P = V * I\n",
    "    return P"
   ]
  },
  {
   "cell_type": "markdown",
   "metadata": {},
   "source": [
    "Fungsi untuk menghitung hambatan dan daya sudah dibuat sesuai rumus."
   ]
  },
  {
   "cell_type": "markdown",
   "metadata": {},
   "source": [
    "Karena kolom Cycle akan digunakan untuk memfilter dataset, berikut adalah gambaran nilai yang ada pada kolom Cycle."
   ]
  },
  {
   "cell_type": "code",
   "execution_count": 10,
   "metadata": {
    "ExecuteTime": {
     "end_time": "2021-07-05T04:07:57.477205Z",
     "start_time": "2021-07-05T04:07:57.456260Z"
    }
   },
   "outputs": [
    {
     "data": {
      "text/plain": [
       "1    10237\n",
       "2    10206\n",
       "3    10175\n",
       "4    10158\n",
       "5    10107\n",
       "6    10050\n",
       "7    10041\n",
       "8    10028\n",
       "9     9980\n",
       "Name: Cycle, dtype: int64"
      ]
     },
     "execution_count": 10,
     "metadata": {},
     "output_type": "execute_result"
    }
   ],
   "source": [
    "data['Cycle'].value_counts()"
   ]
  },
  {
   "cell_type": "code",
   "execution_count": 11,
   "metadata": {
    "ExecuteTime": {
     "end_time": "2021-07-05T04:07:57.493161Z",
     "start_time": "2021-07-05T04:07:57.482190Z"
    }
   },
   "outputs": [
    {
     "data": {
      "text/plain": [
       "array([1, 1, 1, ..., 9, 9, 9], dtype=int64)"
      ]
     },
     "execution_count": 11,
     "metadata": {},
     "output_type": "execute_result"
    }
   ],
   "source": [
    "data['Cycle'].values"
   ]
  },
  {
   "cell_type": "markdown",
   "metadata": {},
   "source": [
    "Agar nilai hasil hitung hambatan dan daya dapat diassign nilai baru, dibuat kolom dengan nama keduanya untuk diupdate pada tahap selanjutnya."
   ]
  },
  {
   "cell_type": "code",
   "execution_count": 12,
   "metadata": {
    "ExecuteTime": {
     "end_time": "2021-07-05T04:07:57.507123Z",
     "start_time": "2021-07-05T04:07:57.498149Z"
    }
   },
   "outputs": [],
   "source": [
    "data['hambatan (R)'] = ''\n",
    "data['Daya (P)'] = ''"
   ]
  },
  {
   "cell_type": "markdown",
   "metadata": {},
   "source": [
    "Berikut adalah tampilan data sebelum  nilai kolom hambatan dan daya dihitung."
   ]
  },
  {
   "cell_type": "code",
   "execution_count": 13,
   "metadata": {
    "ExecuteTime": {
     "end_time": "2021-07-05T04:07:57.551005Z",
     "start_time": "2021-07-05T04:07:57.516100Z"
    }
   },
   "outputs": [
    {
     "data": {
      "text/html": [
       "<div>\n",
       "<style scoped>\n",
       "    .dataframe tbody tr th:only-of-type {\n",
       "        vertical-align: middle;\n",
       "    }\n",
       "\n",
       "    .dataframe tbody tr th {\n",
       "        vertical-align: top;\n",
       "    }\n",
       "\n",
       "    .dataframe thead th {\n",
       "        text-align: right;\n",
       "    }\n",
       "</style>\n",
       "<table border=\"1\" class=\"dataframe\">\n",
       "  <thead>\n",
       "    <tr style=\"text-align: right;\">\n",
       "      <th></th>\n",
       "      <th>time(s)</th>\n",
       "      <th>V_m</th>\n",
       "      <th>Current (A)</th>\n",
       "      <th>Cycle</th>\n",
       "      <th>Cap</th>\n",
       "      <th>hambatan (R)</th>\n",
       "    </tr>\n",
       "  </thead>\n",
       "  <tbody>\n",
       "    <tr>\n",
       "      <th>0</th>\n",
       "      <td>0</td>\n",
       "      <td>4.098</td>\n",
       "      <td>0.997</td>\n",
       "      <td>1</td>\n",
       "      <td>2.840817</td>\n",
       "      <td></td>\n",
       "    </tr>\n",
       "    <tr>\n",
       "      <th>1</th>\n",
       "      <td>1</td>\n",
       "      <td>4.096</td>\n",
       "      <td>0.998</td>\n",
       "      <td>1</td>\n",
       "      <td>2.840817</td>\n",
       "      <td></td>\n",
       "    </tr>\n",
       "    <tr>\n",
       "      <th>2</th>\n",
       "      <td>2</td>\n",
       "      <td>4.094</td>\n",
       "      <td>0.999</td>\n",
       "      <td>1</td>\n",
       "      <td>2.840817</td>\n",
       "      <td></td>\n",
       "    </tr>\n",
       "    <tr>\n",
       "      <th>3</th>\n",
       "      <td>3</td>\n",
       "      <td>4.093</td>\n",
       "      <td>0.998</td>\n",
       "      <td>1</td>\n",
       "      <td>2.840817</td>\n",
       "      <td></td>\n",
       "    </tr>\n",
       "    <tr>\n",
       "      <th>4</th>\n",
       "      <td>4</td>\n",
       "      <td>4.092</td>\n",
       "      <td>0.999</td>\n",
       "      <td>1</td>\n",
       "      <td>2.840817</td>\n",
       "      <td></td>\n",
       "    </tr>\n",
       "    <tr>\n",
       "      <th>...</th>\n",
       "      <td>...</td>\n",
       "      <td>...</td>\n",
       "      <td>...</td>\n",
       "      <td>...</td>\n",
       "      <td>...</td>\n",
       "      <td>...</td>\n",
       "    </tr>\n",
       "    <tr>\n",
       "      <th>90977</th>\n",
       "      <td>90977</td>\n",
       "      <td>2.506</td>\n",
       "      <td>1.002</td>\n",
       "      <td>9</td>\n",
       "      <td>2.770180</td>\n",
       "      <td></td>\n",
       "    </tr>\n",
       "    <tr>\n",
       "      <th>90978</th>\n",
       "      <td>90978</td>\n",
       "      <td>2.504</td>\n",
       "      <td>1.002</td>\n",
       "      <td>9</td>\n",
       "      <td>2.770180</td>\n",
       "      <td></td>\n",
       "    </tr>\n",
       "    <tr>\n",
       "      <th>90979</th>\n",
       "      <td>90979</td>\n",
       "      <td>2.502</td>\n",
       "      <td>1.002</td>\n",
       "      <td>9</td>\n",
       "      <td>2.770180</td>\n",
       "      <td></td>\n",
       "    </tr>\n",
       "    <tr>\n",
       "      <th>90980</th>\n",
       "      <td>90980</td>\n",
       "      <td>2.500</td>\n",
       "      <td>1.002</td>\n",
       "      <td>9</td>\n",
       "      <td>2.770180</td>\n",
       "      <td></td>\n",
       "    </tr>\n",
       "    <tr>\n",
       "      <th>90981</th>\n",
       "      <td>90981</td>\n",
       "      <td>2.497</td>\n",
       "      <td>1.002</td>\n",
       "      <td>9</td>\n",
       "      <td>2.770180</td>\n",
       "      <td></td>\n",
       "    </tr>\n",
       "  </tbody>\n",
       "</table>\n",
       "<p>90982 rows × 6 columns</p>\n",
       "</div>"
      ],
      "text/plain": [
       "       time(s)    V_m  Current (A)  Cycle       Cap hambatan (R)\n",
       "0            0  4.098        0.997      1  2.840817             \n",
       "1            1  4.096        0.998      1  2.840817             \n",
       "2            2  4.094        0.999      1  2.840817             \n",
       "3            3  4.093        0.998      1  2.840817             \n",
       "4            4  4.092        0.999      1  2.840817             \n",
       "...        ...    ...          ...    ...       ...          ...\n",
       "90977    90977  2.506        1.002      9  2.770180             \n",
       "90978    90978  2.504        1.002      9  2.770180             \n",
       "90979    90979  2.502        1.002      9  2.770180             \n",
       "90980    90980  2.500        1.002      9  2.770180             \n",
       "90981    90981  2.497        1.002      9  2.770180             \n",
       "\n",
       "[90982 rows x 6 columns]"
      ]
     },
     "execution_count": 13,
     "metadata": {},
     "output_type": "execute_result"
    }
   ],
   "source": [
    "data"
   ]
  },
  {
   "cell_type": "markdown",
   "metadata": {},
   "source": [
    "Menggunakan for loop untuk menambahkan hasil perhitungan ke dalam dataset. Di dalam loop, akan dilakukan filter untuk kolom Cycle yang genap dan ganjil."
   ]
  },
  {
   "cell_type": "code",
   "execution_count": 14,
   "metadata": {
    "ExecuteTime": {
     "end_time": "2021-07-05T04:12:05.008514Z",
     "start_time": "2021-07-05T04:07:57.554006Z"
    }
   },
   "outputs": [],
   "source": [
    "for i, row in data.iterrows():\n",
    "    if row['Cycle'] % 2 != 0:\n",
    "        # kolom Cycle yang memiliki ganjil akan diupdate dengan nilai hambatan\n",
    "        data.loc[i, 'hambatan (R)'] = hambatan(V = row['V_m'], I = row['Current (A)'])\n",
    "    else:\n",
    "        # kolom Cycle yang bernilai genap akan diupdate dengan numpy NaN (null)\n",
    "        data.loc[i, 'hambatan (R)'] = np.nan"
   ]
  },
  {
   "cell_type": "code",
   "execution_count": 15,
   "metadata": {
    "ExecuteTime": {
     "end_time": "2021-07-05T04:13:58.145140Z",
     "start_time": "2021-07-05T04:12:05.010502Z"
    }
   },
   "outputs": [],
   "source": [
    "for i, row in data.iterrows():\n",
    "    if row['Cycle'] % 2 == 0:\n",
    "        # kolom Cycle yang memiliki genap akan diupdate dengan nilai hambatan\n",
    "        data.loc[i, 'Daya (P)'] = daya(V = row['V_m'], I = row['Current (A)'])\n",
    "    else:\n",
    "        # kolom Cycle yang bernilai ganjil akan diupdate dengan numpy NaN (null\n",
    "        data.loc[i, 'Daya (P)'] = np.nan"
   ]
  },
  {
   "cell_type": "markdown",
   "metadata": {},
   "source": [
    "Data dibawah adalah hasil perhitungan hambatan dan daya."
   ]
  },
  {
   "cell_type": "code",
   "execution_count": 16,
   "metadata": {
    "ExecuteTime": {
     "end_time": "2021-07-05T04:13:58.207968Z",
     "start_time": "2021-07-05T04:13:58.148128Z"
    }
   },
   "outputs": [
    {
     "data": {
      "text/html": [
       "<div>\n",
       "<style scoped>\n",
       "    .dataframe tbody tr th:only-of-type {\n",
       "        vertical-align: middle;\n",
       "    }\n",
       "\n",
       "    .dataframe tbody tr th {\n",
       "        vertical-align: top;\n",
       "    }\n",
       "\n",
       "    .dataframe thead th {\n",
       "        text-align: right;\n",
       "    }\n",
       "</style>\n",
       "<table border=\"1\" class=\"dataframe\">\n",
       "  <thead>\n",
       "    <tr style=\"text-align: right;\">\n",
       "      <th></th>\n",
       "      <th>time(s)</th>\n",
       "      <th>V_m</th>\n",
       "      <th>Current (A)</th>\n",
       "      <th>Cycle</th>\n",
       "      <th>Cap</th>\n",
       "      <th>hambatan (R)</th>\n",
       "      <th>Daya (P)</th>\n",
       "    </tr>\n",
       "  </thead>\n",
       "  <tbody>\n",
       "    <tr>\n",
       "      <th>0</th>\n",
       "      <td>0</td>\n",
       "      <td>4.098</td>\n",
       "      <td>0.997</td>\n",
       "      <td>1</td>\n",
       "      <td>2.840817</td>\n",
       "      <td>4.11033</td>\n",
       "      <td>NaN</td>\n",
       "    </tr>\n",
       "    <tr>\n",
       "      <th>1</th>\n",
       "      <td>1</td>\n",
       "      <td>4.096</td>\n",
       "      <td>0.998</td>\n",
       "      <td>1</td>\n",
       "      <td>2.840817</td>\n",
       "      <td>4.10421</td>\n",
       "      <td>NaN</td>\n",
       "    </tr>\n",
       "    <tr>\n",
       "      <th>2</th>\n",
       "      <td>2</td>\n",
       "      <td>4.094</td>\n",
       "      <td>0.999</td>\n",
       "      <td>1</td>\n",
       "      <td>2.840817</td>\n",
       "      <td>4.0981</td>\n",
       "      <td>NaN</td>\n",
       "    </tr>\n",
       "    <tr>\n",
       "      <th>3</th>\n",
       "      <td>3</td>\n",
       "      <td>4.093</td>\n",
       "      <td>0.998</td>\n",
       "      <td>1</td>\n",
       "      <td>2.840817</td>\n",
       "      <td>4.1012</td>\n",
       "      <td>NaN</td>\n",
       "    </tr>\n",
       "    <tr>\n",
       "      <th>4</th>\n",
       "      <td>4</td>\n",
       "      <td>4.092</td>\n",
       "      <td>0.999</td>\n",
       "      <td>1</td>\n",
       "      <td>2.840817</td>\n",
       "      <td>4.0961</td>\n",
       "      <td>NaN</td>\n",
       "    </tr>\n",
       "    <tr>\n",
       "      <th>...</th>\n",
       "      <td>...</td>\n",
       "      <td>...</td>\n",
       "      <td>...</td>\n",
       "      <td>...</td>\n",
       "      <td>...</td>\n",
       "      <td>...</td>\n",
       "      <td>...</td>\n",
       "    </tr>\n",
       "    <tr>\n",
       "      <th>90977</th>\n",
       "      <td>90977</td>\n",
       "      <td>2.506</td>\n",
       "      <td>1.002</td>\n",
       "      <td>9</td>\n",
       "      <td>2.770180</td>\n",
       "      <td>2.501</td>\n",
       "      <td>NaN</td>\n",
       "    </tr>\n",
       "    <tr>\n",
       "      <th>90978</th>\n",
       "      <td>90978</td>\n",
       "      <td>2.504</td>\n",
       "      <td>1.002</td>\n",
       "      <td>9</td>\n",
       "      <td>2.770180</td>\n",
       "      <td>2.499</td>\n",
       "      <td>NaN</td>\n",
       "    </tr>\n",
       "    <tr>\n",
       "      <th>90979</th>\n",
       "      <td>90979</td>\n",
       "      <td>2.502</td>\n",
       "      <td>1.002</td>\n",
       "      <td>9</td>\n",
       "      <td>2.770180</td>\n",
       "      <td>2.49701</td>\n",
       "      <td>NaN</td>\n",
       "    </tr>\n",
       "    <tr>\n",
       "      <th>90980</th>\n",
       "      <td>90980</td>\n",
       "      <td>2.500</td>\n",
       "      <td>1.002</td>\n",
       "      <td>9</td>\n",
       "      <td>2.770180</td>\n",
       "      <td>2.49501</td>\n",
       "      <td>NaN</td>\n",
       "    </tr>\n",
       "    <tr>\n",
       "      <th>90981</th>\n",
       "      <td>90981</td>\n",
       "      <td>2.497</td>\n",
       "      <td>1.002</td>\n",
       "      <td>9</td>\n",
       "      <td>2.770180</td>\n",
       "      <td>2.49202</td>\n",
       "      <td>NaN</td>\n",
       "    </tr>\n",
       "  </tbody>\n",
       "</table>\n",
       "<p>90982 rows × 7 columns</p>\n",
       "</div>"
      ],
      "text/plain": [
       "       time(s)    V_m  Current (A)  Cycle       Cap hambatan (R)  Daya (P)\n",
       "0            0  4.098        0.997      1  2.840817      4.11033       NaN\n",
       "1            1  4.096        0.998      1  2.840817      4.10421       NaN\n",
       "2            2  4.094        0.999      1  2.840817       4.0981       NaN\n",
       "3            3  4.093        0.998      1  2.840817       4.1012       NaN\n",
       "4            4  4.092        0.999      1  2.840817       4.0961       NaN\n",
       "...        ...    ...          ...    ...       ...          ...       ...\n",
       "90977    90977  2.506        1.002      9  2.770180        2.501       NaN\n",
       "90978    90978  2.504        1.002      9  2.770180        2.499       NaN\n",
       "90979    90979  2.502        1.002      9  2.770180      2.49701       NaN\n",
       "90980    90980  2.500        1.002      9  2.770180      2.49501       NaN\n",
       "90981    90981  2.497        1.002      9  2.770180      2.49202       NaN\n",
       "\n",
       "[90982 rows x 7 columns]"
      ]
     },
     "execution_count": 16,
     "metadata": {},
     "output_type": "execute_result"
    }
   ],
   "source": [
    "data"
   ]
  },
  {
   "cell_type": "markdown",
   "metadata": {},
   "source": [
    "# Hasil"
   ]
  },
  {
   "cell_type": "code",
   "execution_count": 22,
   "metadata": {
    "ExecuteTime": {
     "end_time": "2021-07-05T04:14:40.529036Z",
     "start_time": "2021-07-05T04:14:40.485126Z"
    }
   },
   "outputs": [
    {
     "data": {
      "text/html": [
       "<div>\n",
       "<style scoped>\n",
       "    .dataframe tbody tr th:only-of-type {\n",
       "        vertical-align: middle;\n",
       "    }\n",
       "\n",
       "    .dataframe tbody tr th {\n",
       "        vertical-align: top;\n",
       "    }\n",
       "\n",
       "    .dataframe thead th {\n",
       "        text-align: right;\n",
       "    }\n",
       "</style>\n",
       "<table border=\"1\" class=\"dataframe\">\n",
       "  <thead>\n",
       "    <tr style=\"text-align: right;\">\n",
       "      <th></th>\n",
       "      <th>time(s)</th>\n",
       "      <th>V_m</th>\n",
       "      <th>Current (A)</th>\n",
       "      <th>Cycle</th>\n",
       "      <th>Cap</th>\n",
       "      <th>hambatan (R)</th>\n",
       "      <th>Daya (P)</th>\n",
       "    </tr>\n",
       "  </thead>\n",
       "  <tbody>\n",
       "    <tr>\n",
       "      <th>0</th>\n",
       "      <td>0</td>\n",
       "      <td>4.098</td>\n",
       "      <td>0.997</td>\n",
       "      <td>1</td>\n",
       "      <td>2.840817</td>\n",
       "      <td>4.11033</td>\n",
       "      <td>NaN</td>\n",
       "    </tr>\n",
       "    <tr>\n",
       "      <th>1</th>\n",
       "      <td>1</td>\n",
       "      <td>4.096</td>\n",
       "      <td>0.998</td>\n",
       "      <td>1</td>\n",
       "      <td>2.840817</td>\n",
       "      <td>4.10421</td>\n",
       "      <td>NaN</td>\n",
       "    </tr>\n",
       "    <tr>\n",
       "      <th>2</th>\n",
       "      <td>2</td>\n",
       "      <td>4.094</td>\n",
       "      <td>0.999</td>\n",
       "      <td>1</td>\n",
       "      <td>2.840817</td>\n",
       "      <td>4.0981</td>\n",
       "      <td>NaN</td>\n",
       "    </tr>\n",
       "    <tr>\n",
       "      <th>3</th>\n",
       "      <td>3</td>\n",
       "      <td>4.093</td>\n",
       "      <td>0.998</td>\n",
       "      <td>1</td>\n",
       "      <td>2.840817</td>\n",
       "      <td>4.1012</td>\n",
       "      <td>NaN</td>\n",
       "    </tr>\n",
       "    <tr>\n",
       "      <th>4</th>\n",
       "      <td>4</td>\n",
       "      <td>4.092</td>\n",
       "      <td>0.999</td>\n",
       "      <td>1</td>\n",
       "      <td>2.840817</td>\n",
       "      <td>4.0961</td>\n",
       "      <td>NaN</td>\n",
       "    </tr>\n",
       "    <tr>\n",
       "      <th>...</th>\n",
       "      <td>...</td>\n",
       "      <td>...</td>\n",
       "      <td>...</td>\n",
       "      <td>...</td>\n",
       "      <td>...</td>\n",
       "      <td>...</td>\n",
       "      <td>...</td>\n",
       "    </tr>\n",
       "    <tr>\n",
       "      <th>90977</th>\n",
       "      <td>90977</td>\n",
       "      <td>2.506</td>\n",
       "      <td>1.002</td>\n",
       "      <td>9</td>\n",
       "      <td>2.770180</td>\n",
       "      <td>2.501</td>\n",
       "      <td>NaN</td>\n",
       "    </tr>\n",
       "    <tr>\n",
       "      <th>90978</th>\n",
       "      <td>90978</td>\n",
       "      <td>2.504</td>\n",
       "      <td>1.002</td>\n",
       "      <td>9</td>\n",
       "      <td>2.770180</td>\n",
       "      <td>2.499</td>\n",
       "      <td>NaN</td>\n",
       "    </tr>\n",
       "    <tr>\n",
       "      <th>90979</th>\n",
       "      <td>90979</td>\n",
       "      <td>2.502</td>\n",
       "      <td>1.002</td>\n",
       "      <td>9</td>\n",
       "      <td>2.770180</td>\n",
       "      <td>2.49701</td>\n",
       "      <td>NaN</td>\n",
       "    </tr>\n",
       "    <tr>\n",
       "      <th>90980</th>\n",
       "      <td>90980</td>\n",
       "      <td>2.500</td>\n",
       "      <td>1.002</td>\n",
       "      <td>9</td>\n",
       "      <td>2.770180</td>\n",
       "      <td>2.49501</td>\n",
       "      <td>NaN</td>\n",
       "    </tr>\n",
       "    <tr>\n",
       "      <th>90981</th>\n",
       "      <td>90981</td>\n",
       "      <td>2.497</td>\n",
       "      <td>1.002</td>\n",
       "      <td>9</td>\n",
       "      <td>2.770180</td>\n",
       "      <td>2.49202</td>\n",
       "      <td>NaN</td>\n",
       "    </tr>\n",
       "  </tbody>\n",
       "</table>\n",
       "<p>90982 rows × 7 columns</p>\n",
       "</div>"
      ],
      "text/plain": [
       "       time(s)    V_m  Current (A)  Cycle       Cap hambatan (R)  Daya (P)\n",
       "0            0  4.098        0.997      1  2.840817      4.11033       NaN\n",
       "1            1  4.096        0.998      1  2.840817      4.10421       NaN\n",
       "2            2  4.094        0.999      1  2.840817       4.0981       NaN\n",
       "3            3  4.093        0.998      1  2.840817       4.1012       NaN\n",
       "4            4  4.092        0.999      1  2.840817       4.0961       NaN\n",
       "...        ...    ...          ...    ...       ...          ...       ...\n",
       "90977    90977  2.506        1.002      9  2.770180        2.501       NaN\n",
       "90978    90978  2.504        1.002      9  2.770180        2.499       NaN\n",
       "90979    90979  2.502        1.002      9  2.770180      2.49701       NaN\n",
       "90980    90980  2.500        1.002      9  2.770180      2.49501       NaN\n",
       "90981    90981  2.497        1.002      9  2.770180      2.49202       NaN\n",
       "\n",
       "[90982 rows x 7 columns]"
      ]
     },
     "execution_count": 22,
     "metadata": {},
     "output_type": "execute_result"
    }
   ],
   "source": [
    "data"
   ]
  },
  {
   "cell_type": "markdown",
   "metadata": {},
   "source": [
    "Lakukan testing untuk melihat apakah hitungan sudah benar:"
   ]
  },
  {
   "cell_type": "code",
   "execution_count": 24,
   "metadata": {
    "ExecuteTime": {
     "end_time": "2021-07-05T04:15:48.788773Z",
     "start_time": "2021-07-05T04:15:48.781784Z"
    }
   },
   "outputs": [
    {
     "data": {
      "text/plain": [
       "4.110330992978937"
      ]
     },
     "execution_count": 24,
     "metadata": {},
     "output_type": "execute_result"
    }
   ],
   "source": [
    "data['V_m'][0] / data['Current (A)'][0]"
   ]
  },
  {
   "cell_type": "code",
   "execution_count": 26,
   "metadata": {
    "ExecuteTime": {
     "end_time": "2021-07-05T04:16:16.396288Z",
     "start_time": "2021-07-05T04:16:16.387292Z"
    }
   },
   "outputs": [
    {
     "data": {
      "text/plain": [
       "2.492015968063872"
      ]
     },
     "execution_count": 26,
     "metadata": {},
     "output_type": "execute_result"
    }
   ],
   "source": [
    "data['V_m'][90981] / data['Current (A)'][90981]"
   ]
  },
  {
   "cell_type": "markdown",
   "metadata": {},
   "source": [
    "## Hasil Hitung Hambatan"
   ]
  },
  {
   "cell_type": "code",
   "execution_count": 20,
   "metadata": {
    "ExecuteTime": {
     "end_time": "2021-07-05T04:14:31.643676Z",
     "start_time": "2021-07-05T04:14:31.636665Z"
    }
   },
   "outputs": [
    {
     "data": {
      "text/plain": [
       "0        4.11033\n",
       "1        4.10421\n",
       "2         4.0981\n",
       "3         4.1012\n",
       "4         4.0961\n",
       "          ...   \n",
       "90977      2.501\n",
       "90978      2.499\n",
       "90979    2.49701\n",
       "90980    2.49501\n",
       "90981    2.49202\n",
       "Name: hambatan (R), Length: 90982, dtype: object"
      ]
     },
     "execution_count": 20,
     "metadata": {},
     "output_type": "execute_result"
    }
   ],
   "source": [
    "data['hambatan (R)']"
   ]
  },
  {
   "cell_type": "code",
   "execution_count": 28,
   "metadata": {
    "ExecuteTime": {
     "end_time": "2021-07-05T04:17:01.895075Z",
     "start_time": "2021-07-05T04:17:01.858172Z"
    }
   },
   "outputs": [
    {
     "data": {
      "text/html": [
       "<div>\n",
       "<style scoped>\n",
       "    .dataframe tbody tr th:only-of-type {\n",
       "        vertical-align: middle;\n",
       "    }\n",
       "\n",
       "    .dataframe tbody tr th {\n",
       "        vertical-align: top;\n",
       "    }\n",
       "\n",
       "    .dataframe thead th {\n",
       "        text-align: right;\n",
       "    }\n",
       "</style>\n",
       "<table border=\"1\" class=\"dataframe\">\n",
       "  <thead>\n",
       "    <tr style=\"text-align: right;\">\n",
       "      <th></th>\n",
       "      <th>hambatan (R)</th>\n",
       "    </tr>\n",
       "  </thead>\n",
       "  <tbody>\n",
       "    <tr>\n",
       "      <th>0</th>\n",
       "      <td>4.11033</td>\n",
       "    </tr>\n",
       "    <tr>\n",
       "      <th>1</th>\n",
       "      <td>4.10421</td>\n",
       "    </tr>\n",
       "    <tr>\n",
       "      <th>2</th>\n",
       "      <td>4.0981</td>\n",
       "    </tr>\n",
       "    <tr>\n",
       "      <th>3</th>\n",
       "      <td>4.1012</td>\n",
       "    </tr>\n",
       "    <tr>\n",
       "      <th>4</th>\n",
       "      <td>4.0961</td>\n",
       "    </tr>\n",
       "    <tr>\n",
       "      <th>...</th>\n",
       "      <td>...</td>\n",
       "    </tr>\n",
       "    <tr>\n",
       "      <th>90977</th>\n",
       "      <td>2.501</td>\n",
       "    </tr>\n",
       "    <tr>\n",
       "      <th>90978</th>\n",
       "      <td>2.499</td>\n",
       "    </tr>\n",
       "    <tr>\n",
       "      <th>90979</th>\n",
       "      <td>2.49701</td>\n",
       "    </tr>\n",
       "    <tr>\n",
       "      <th>90980</th>\n",
       "      <td>2.49501</td>\n",
       "    </tr>\n",
       "    <tr>\n",
       "      <th>90981</th>\n",
       "      <td>2.49202</td>\n",
       "    </tr>\n",
       "  </tbody>\n",
       "</table>\n",
       "<p>50540 rows × 1 columns</p>\n",
       "</div>"
      ],
      "text/plain": [
       "      hambatan (R)\n",
       "0          4.11033\n",
       "1          4.10421\n",
       "2           4.0981\n",
       "3           4.1012\n",
       "4           4.0961\n",
       "...            ...\n",
       "90977        2.501\n",
       "90978        2.499\n",
       "90979      2.49701\n",
       "90980      2.49501\n",
       "90981      2.49202\n",
       "\n",
       "[50540 rows x 1 columns]"
      ]
     },
     "execution_count": 28,
     "metadata": {},
     "output_type": "execute_result"
    }
   ],
   "source": [
    "data[data['Cycle'] % 2 != 0][['hambatan (R)']]"
   ]
  },
  {
   "cell_type": "code",
   "execution_count": 30,
   "metadata": {
    "ExecuteTime": {
     "end_time": "2021-07-05T04:18:22.984280Z",
     "start_time": "2021-07-05T04:18:22.959344Z"
    }
   },
   "outputs": [
    {
     "data": {
      "text/html": [
       "<div>\n",
       "<style scoped>\n",
       "    .dataframe tbody tr th:only-of-type {\n",
       "        vertical-align: middle;\n",
       "    }\n",
       "\n",
       "    .dataframe tbody tr th {\n",
       "        vertical-align: top;\n",
       "    }\n",
       "\n",
       "    .dataframe thead th {\n",
       "        text-align: right;\n",
       "    }\n",
       "</style>\n",
       "<table border=\"1\" class=\"dataframe\">\n",
       "  <thead>\n",
       "    <tr style=\"text-align: right;\">\n",
       "      <th></th>\n",
       "      <th>hambatan (R)</th>\n",
       "    </tr>\n",
       "  </thead>\n",
       "  <tbody>\n",
       "    <tr>\n",
       "      <th>10237</th>\n",
       "      <td>NaN</td>\n",
       "    </tr>\n",
       "    <tr>\n",
       "      <th>10238</th>\n",
       "      <td>NaN</td>\n",
       "    </tr>\n",
       "    <tr>\n",
       "      <th>10239</th>\n",
       "      <td>NaN</td>\n",
       "    </tr>\n",
       "    <tr>\n",
       "      <th>10240</th>\n",
       "      <td>NaN</td>\n",
       "    </tr>\n",
       "    <tr>\n",
       "      <th>10241</th>\n",
       "      <td>NaN</td>\n",
       "    </tr>\n",
       "    <tr>\n",
       "      <th>...</th>\n",
       "      <td>...</td>\n",
       "    </tr>\n",
       "    <tr>\n",
       "      <th>80997</th>\n",
       "      <td>NaN</td>\n",
       "    </tr>\n",
       "    <tr>\n",
       "      <th>80998</th>\n",
       "      <td>NaN</td>\n",
       "    </tr>\n",
       "    <tr>\n",
       "      <th>80999</th>\n",
       "      <td>NaN</td>\n",
       "    </tr>\n",
       "    <tr>\n",
       "      <th>81000</th>\n",
       "      <td>NaN</td>\n",
       "    </tr>\n",
       "    <tr>\n",
       "      <th>81001</th>\n",
       "      <td>NaN</td>\n",
       "    </tr>\n",
       "  </tbody>\n",
       "</table>\n",
       "<p>40442 rows × 1 columns</p>\n",
       "</div>"
      ],
      "text/plain": [
       "      hambatan (R)\n",
       "10237          NaN\n",
       "10238          NaN\n",
       "10239          NaN\n",
       "10240          NaN\n",
       "10241          NaN\n",
       "...            ...\n",
       "80997          NaN\n",
       "80998          NaN\n",
       "80999          NaN\n",
       "81000          NaN\n",
       "81001          NaN\n",
       "\n",
       "[40442 rows x 1 columns]"
      ]
     },
     "execution_count": 30,
     "metadata": {},
     "output_type": "execute_result"
    }
   ],
   "source": [
    "data[data['Cycle'] % 2 == 0][['hambatan (R)']]"
   ]
  },
  {
   "cell_type": "markdown",
   "metadata": {},
   "source": [
    "## Hasil Hitung Daya"
   ]
  },
  {
   "cell_type": "code",
   "execution_count": 21,
   "metadata": {
    "ExecuteTime": {
     "end_time": "2021-07-05T04:14:34.371488Z",
     "start_time": "2021-07-05T04:14:34.359008Z"
    }
   },
   "outputs": [
    {
     "data": {
      "text/plain": [
       "0       NaN\n",
       "1       NaN\n",
       "2       NaN\n",
       "3       NaN\n",
       "4       NaN\n",
       "         ..\n",
       "90977   NaN\n",
       "90978   NaN\n",
       "90979   NaN\n",
       "90980   NaN\n",
       "90981   NaN\n",
       "Name: Daya (P), Length: 90982, dtype: float64"
      ]
     },
     "execution_count": 21,
     "metadata": {},
     "output_type": "execute_result"
    }
   ],
   "source": [
    "data['Daya (P)']"
   ]
  },
  {
   "cell_type": "code",
   "execution_count": 31,
   "metadata": {
    "ExecuteTime": {
     "end_time": "2021-07-05T04:18:32.941652Z",
     "start_time": "2021-07-05T04:18:32.916716Z"
    }
   },
   "outputs": [
    {
     "data": {
      "text/html": [
       "<div>\n",
       "<style scoped>\n",
       "    .dataframe tbody tr th:only-of-type {\n",
       "        vertical-align: middle;\n",
       "    }\n",
       "\n",
       "    .dataframe tbody tr th {\n",
       "        vertical-align: top;\n",
       "    }\n",
       "\n",
       "    .dataframe thead th {\n",
       "        text-align: right;\n",
       "    }\n",
       "</style>\n",
       "<table border=\"1\" class=\"dataframe\">\n",
       "  <thead>\n",
       "    <tr style=\"text-align: right;\">\n",
       "      <th></th>\n",
       "      <th>Daya (P)</th>\n",
       "    </tr>\n",
       "  </thead>\n",
       "  <tbody>\n",
       "    <tr>\n",
       "      <th>10237</th>\n",
       "      <td>4.082223</td>\n",
       "    </tr>\n",
       "    <tr>\n",
       "      <th>10238</th>\n",
       "      <td>4.089450</td>\n",
       "    </tr>\n",
       "    <tr>\n",
       "      <th>10239</th>\n",
       "      <td>4.099784</td>\n",
       "    </tr>\n",
       "    <tr>\n",
       "      <th>10240</th>\n",
       "      <td>4.102893</td>\n",
       "    </tr>\n",
       "    <tr>\n",
       "      <th>10241</th>\n",
       "      <td>4.111107</td>\n",
       "    </tr>\n",
       "    <tr>\n",
       "      <th>...</th>\n",
       "      <td>...</td>\n",
       "    </tr>\n",
       "    <tr>\n",
       "      <th>80997</th>\n",
       "      <td>2.508000</td>\n",
       "    </tr>\n",
       "    <tr>\n",
       "      <th>80998</th>\n",
       "      <td>2.502495</td>\n",
       "    </tr>\n",
       "    <tr>\n",
       "      <th>80999</th>\n",
       "      <td>2.500497</td>\n",
       "    </tr>\n",
       "    <tr>\n",
       "      <th>81000</th>\n",
       "      <td>2.498499</td>\n",
       "    </tr>\n",
       "    <tr>\n",
       "      <th>81001</th>\n",
       "      <td>2.499000</td>\n",
       "    </tr>\n",
       "  </tbody>\n",
       "</table>\n",
       "<p>40442 rows × 1 columns</p>\n",
       "</div>"
      ],
      "text/plain": [
       "       Daya (P)\n",
       "10237  4.082223\n",
       "10238  4.089450\n",
       "10239  4.099784\n",
       "10240  4.102893\n",
       "10241  4.111107\n",
       "...         ...\n",
       "80997  2.508000\n",
       "80998  2.502495\n",
       "80999  2.500497\n",
       "81000  2.498499\n",
       "81001  2.499000\n",
       "\n",
       "[40442 rows x 1 columns]"
      ]
     },
     "execution_count": 31,
     "metadata": {},
     "output_type": "execute_result"
    }
   ],
   "source": [
    "data[data['Cycle'] % 2 == 0][['Daya (P)']]"
   ]
  },
  {
   "cell_type": "code",
   "execution_count": 32,
   "metadata": {
    "ExecuteTime": {
     "end_time": "2021-07-05T04:18:40.185757Z",
     "start_time": "2021-07-05T04:18:40.153843Z"
    }
   },
   "outputs": [
    {
     "data": {
      "text/html": [
       "<div>\n",
       "<style scoped>\n",
       "    .dataframe tbody tr th:only-of-type {\n",
       "        vertical-align: middle;\n",
       "    }\n",
       "\n",
       "    .dataframe tbody tr th {\n",
       "        vertical-align: top;\n",
       "    }\n",
       "\n",
       "    .dataframe thead th {\n",
       "        text-align: right;\n",
       "    }\n",
       "</style>\n",
       "<table border=\"1\" class=\"dataframe\">\n",
       "  <thead>\n",
       "    <tr style=\"text-align: right;\">\n",
       "      <th></th>\n",
       "      <th>Daya (P)</th>\n",
       "    </tr>\n",
       "  </thead>\n",
       "  <tbody>\n",
       "    <tr>\n",
       "      <th>0</th>\n",
       "      <td>NaN</td>\n",
       "    </tr>\n",
       "    <tr>\n",
       "      <th>1</th>\n",
       "      <td>NaN</td>\n",
       "    </tr>\n",
       "    <tr>\n",
       "      <th>2</th>\n",
       "      <td>NaN</td>\n",
       "    </tr>\n",
       "    <tr>\n",
       "      <th>3</th>\n",
       "      <td>NaN</td>\n",
       "    </tr>\n",
       "    <tr>\n",
       "      <th>4</th>\n",
       "      <td>NaN</td>\n",
       "    </tr>\n",
       "    <tr>\n",
       "      <th>...</th>\n",
       "      <td>...</td>\n",
       "    </tr>\n",
       "    <tr>\n",
       "      <th>90977</th>\n",
       "      <td>NaN</td>\n",
       "    </tr>\n",
       "    <tr>\n",
       "      <th>90978</th>\n",
       "      <td>NaN</td>\n",
       "    </tr>\n",
       "    <tr>\n",
       "      <th>90979</th>\n",
       "      <td>NaN</td>\n",
       "    </tr>\n",
       "    <tr>\n",
       "      <th>90980</th>\n",
       "      <td>NaN</td>\n",
       "    </tr>\n",
       "    <tr>\n",
       "      <th>90981</th>\n",
       "      <td>NaN</td>\n",
       "    </tr>\n",
       "  </tbody>\n",
       "</table>\n",
       "<p>50540 rows × 1 columns</p>\n",
       "</div>"
      ],
      "text/plain": [
       "       Daya (P)\n",
       "0           NaN\n",
       "1           NaN\n",
       "2           NaN\n",
       "3           NaN\n",
       "4           NaN\n",
       "...         ...\n",
       "90977       NaN\n",
       "90978       NaN\n",
       "90979       NaN\n",
       "90980       NaN\n",
       "90981       NaN\n",
       "\n",
       "[50540 rows x 1 columns]"
      ]
     },
     "execution_count": 32,
     "metadata": {},
     "output_type": "execute_result"
    }
   ],
   "source": [
    "data[data['Cycle'] % 2 != 0][['Daya (P)']]"
   ]
  },
  {
   "cell_type": "markdown",
   "metadata": {},
   "source": [
    "## Asignment Rubrics"
   ]
  },
  {
   "cell_type": "markdown",
   "metadata": {},
   "source": [
    "### Code Review\n",
    "- Data Loading: Mampu memuat data dengan Pandas (2 pts) - **Done**\n",
    "- Looping Implementation: Mampu menerapkan looping for dalam suatu kasus (10 pts) - **Done**\n",
    "- Conditional If Implementation: mMampu menerapkan konsep conditional if dalam suatu kasus (10 pts) - **Done**\n",
    "- Function Implementation: Mampu menerapkan function pada sebuah kasus (10 pts) - **Done**\n",
    "- Pandas Query Implementation: Mampu mengimplementasikan pandas query dalam pengolahan data (10 pts) - **Done**"
   ]
  },
  {
   "cell_type": "markdown",
   "metadata": {
    "ExecuteTime": {
     "end_time": "2021-07-05T04:43:25.042193Z",
     "start_time": "2021-07-05T04:43:25.037206Z"
    }
   },
   "source": [
    "### Readability\n",
    "- Tertata Dengan Baik: Semua Cell Di Notebook Terdokumentasi Dengan Baik Dengan Markdown Pada Tiap Cell Untuk Penjelasan Kode (8 pts) - **Done**"
   ]
  }
 ],
 "metadata": {
  "kernelspec": {
   "display_name": "Python 3",
   "language": "python",
   "name": "python3"
  },
  "language_info": {
   "codemirror_mode": {
    "name": "ipython",
    "version": 3
   },
   "file_extension": ".py",
   "mimetype": "text/x-python",
   "name": "python",
   "nbconvert_exporter": "python",
   "pygments_lexer": "ipython3",
   "version": "3.8.5"
  },
  "nbTranslate": {
   "displayLangs": [
    "en"
   ],
   "hotkey": "alt-t",
   "langInMainMenu": true,
   "sourceLang": "en",
   "targetLang": "fr",
   "useGoogleTranslate": true
  },
  "toc": {
   "base_numbering": 1,
   "nav_menu": {},
   "number_sections": true,
   "sideBar": true,
   "skip_h1_title": false,
   "title_cell": "Table of Contents",
   "title_sidebar": "Contents",
   "toc_cell": true,
   "toc_position": {},
   "toc_section_display": true,
   "toc_window_display": false
  }
 },
 "nbformat": 4,
 "nbformat_minor": 4
}
