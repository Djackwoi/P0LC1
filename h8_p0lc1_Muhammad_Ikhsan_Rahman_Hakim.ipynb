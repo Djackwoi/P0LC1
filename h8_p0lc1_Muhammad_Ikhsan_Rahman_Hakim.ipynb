{
  "nbformat": 4,
  "nbformat_minor": 0,
  "metadata": {
    "colab": {
      "name": "h8_p0lc1_Muhammad_Ikhsan_Rahman_Hakim.ipynb",
      "provenance": [],
      "collapsed_sections": [],
      "toc_visible": true
    },
    "kernelspec": {
      "name": "python3",
      "display_name": "Python 3"
    },
    "language_info": {
      "name": "python"
    }
  },
  "cells": [
    {
      "cell_type": "markdown",
      "metadata": {
        "id": "_wjvgmyKl16M"
      },
      "source": [
        "## Muhammad Ikhsan Rahman Hakim || Batch 001 FTDS"
      ]
    },
    {
      "cell_type": "markdown",
      "metadata": {
        "id": "ZVjhP7Cp2gjx"
      },
      "source": [
        "Import library"
      ]
    },
    {
      "cell_type": "code",
      "metadata": {
        "id": "U2SX7cklkGxc"
      },
      "source": [
        "import pandas as pd\n",
        "import numpy as np\n"
      ],
      "execution_count": null,
      "outputs": []
    },
    {
      "cell_type": "code",
      "metadata": {
        "id": "gTZKPXyfkQ4X"
      },
      "source": [
        "df=pd.read_excel('/content/NMC1-9.xlsx')"
      ],
      "execution_count": null,
      "outputs": []
    },
    {
      "cell_type": "markdown",
      "metadata": {
        "id": "RcjFs7Rundhi"
      },
      "source": [
        "Melihat 5 baris awalan dari tabel"
      ]
    },
    {
      "cell_type": "code",
      "metadata": {
        "colab": {
          "base_uri": "https://localhost:8080/",
          "height": 204
        },
        "id": "oBVoodpTkbgO",
        "outputId": "0ec4302a-9cce-4e3e-8f57-f272c7e34d4e"
      },
      "source": [
        "df.head()"
      ],
      "execution_count": null,
      "outputs": [
        {
          "output_type": "execute_result",
          "data": {
            "text/html": [
              "<div>\n",
              "<style scoped>\n",
              "    .dataframe tbody tr th:only-of-type {\n",
              "        vertical-align: middle;\n",
              "    }\n",
              "\n",
              "    .dataframe tbody tr th {\n",
              "        vertical-align: top;\n",
              "    }\n",
              "\n",
              "    .dataframe thead th {\n",
              "        text-align: right;\n",
              "    }\n",
              "</style>\n",
              "<table border=\"1\" class=\"dataframe\">\n",
              "  <thead>\n",
              "    <tr style=\"text-align: right;\">\n",
              "      <th></th>\n",
              "      <th>time(s)</th>\n",
              "      <th>V_m</th>\n",
              "      <th>Current (A)</th>\n",
              "      <th>Cycle</th>\n",
              "      <th>Cap</th>\n",
              "      <th>Hambatan</th>\n",
              "      <th>Daya</th>\n",
              "    </tr>\n",
              "  </thead>\n",
              "  <tbody>\n",
              "    <tr>\n",
              "      <th>0</th>\n",
              "      <td>0</td>\n",
              "      <td>4.098</td>\n",
              "      <td>0.997</td>\n",
              "      <td>1</td>\n",
              "      <td>2.840817</td>\n",
              "      <td>4.110331</td>\n",
              "      <td>4.085706</td>\n",
              "    </tr>\n",
              "    <tr>\n",
              "      <th>1</th>\n",
              "      <td>1</td>\n",
              "      <td>4.096</td>\n",
              "      <td>0.998</td>\n",
              "      <td>1</td>\n",
              "      <td>2.840817</td>\n",
              "      <td>4.104208</td>\n",
              "      <td>4.087808</td>\n",
              "    </tr>\n",
              "    <tr>\n",
              "      <th>2</th>\n",
              "      <td>2</td>\n",
              "      <td>4.094</td>\n",
              "      <td>0.999</td>\n",
              "      <td>1</td>\n",
              "      <td>2.840817</td>\n",
              "      <td>4.098098</td>\n",
              "      <td>4.089906</td>\n",
              "    </tr>\n",
              "    <tr>\n",
              "      <th>3</th>\n",
              "      <td>3</td>\n",
              "      <td>4.093</td>\n",
              "      <td>0.998</td>\n",
              "      <td>1</td>\n",
              "      <td>2.840817</td>\n",
              "      <td>4.101202</td>\n",
              "      <td>4.084814</td>\n",
              "    </tr>\n",
              "    <tr>\n",
              "      <th>4</th>\n",
              "      <td>4</td>\n",
              "      <td>4.092</td>\n",
              "      <td>0.999</td>\n",
              "      <td>1</td>\n",
              "      <td>2.840817</td>\n",
              "      <td>4.096096</td>\n",
              "      <td>4.087908</td>\n",
              "    </tr>\n",
              "  </tbody>\n",
              "</table>\n",
              "</div>"
            ],
            "text/plain": [
              "   time(s)    V_m  Current (A)  Cycle       Cap  Hambatan      Daya\n",
              "0        0  4.098        0.997      1  2.840817  4.110331  4.085706\n",
              "1        1  4.096        0.998      1  2.840817  4.104208  4.087808\n",
              "2        2  4.094        0.999      1  2.840817  4.098098  4.089906\n",
              "3        3  4.093        0.998      1  2.840817  4.101202  4.084814\n",
              "4        4  4.092        0.999      1  2.840817  4.096096  4.087908"
            ]
          },
          "metadata": {
            "tags": []
          },
          "execution_count": 30
        }
      ]
    },
    {
      "cell_type": "markdown",
      "metadata": {
        "id": "uhm8SRbEllPt"
      },
      "source": [
        "### Keterangan Tabel\n",
        "- time(s): Detik ke- pengukuran\n",
        "- V_m: Voltage/tegangan yang terukur tiap waktu\n",
        "- Current (A): Kuat arus terukur tiap waktu\n",
        "- Cycle: Nomor siklus charge-discharge baterai\n",
        "- Cap: Kapasitas baterai tiap waktu\n"
      ]
    },
    {
      "cell_type": "markdown",
      "metadata": {
        "id": "DcKQX08hksmO"
      },
      "source": [
        "### Soal\n",
        "Hitung hambatan baterai tiap waktunya untuk cycle ganjil dan daya baterai tiap waktunya untuk cycle genap dari dataset dengan ketentuan sebagai berikut:\n",
        "\n",
        "1. Gunakan function untuk menghitung hambatan dan daya\n",
        "2. Harus menerapkan konsep looping, conditional if, dan pandas query"
      ]
    },
    {
      "cell_type": "markdown",
      "metadata": {
        "id": "qb3faUPE2VnJ"
      },
      "source": [
        "Mendefinisikan fungsi untuk masing-masing rumus"
      ]
    },
    {
      "cell_type": "code",
      "metadata": {
        "id": "lmkriHzHlt-f"
      },
      "source": [
        "def hambatan(a,b):\n",
        "  \"Rumus menghitung kapasitas baterai dalam satuan Ohm, R=V/I\"\n",
        "  return a/b\n",
        "\n",
        "def daya(a,b):\n",
        "  \"Rumus menghitung daya, P=V*I\"\n",
        "  return a*b\n"
      ],
      "execution_count": null,
      "outputs": []
    },
    {
      "cell_type": "markdown",
      "metadata": {
        "id": "teR-7RPNsVwK"
      },
      "source": [
        "### Menghitung Hambatan dan daya dari tiap baterai"
      ]
    },
    {
      "cell_type": "code",
      "metadata": {
        "colab": {
          "base_uri": "https://localhost:8080/"
        },
        "id": "9wphK6YMvJ4c",
        "outputId": "a98d7b28-feab-41d6-cdce-bdca76e5596e"
      },
      "source": [
        "df['Hambatan'] = df.apply(lambda x: hambatan(x['V_m'], x['Current (A)']), axis=1)\n",
        "df['Daya'] = df.apply(lambda x: daya(x['V_m'], x['Current (A)']), axis=1)\n",
        "print(df)"
      ],
      "execution_count": null,
      "outputs": [
        {
          "output_type": "stream",
          "text": [
            "       time(s)    V_m  Current (A)  Cycle       Cap  Hambatan      Daya\n",
            "0            0  4.098        0.997      1  2.840817  4.110331  4.085706\n",
            "1            1  4.096        0.998      1  2.840817  4.104208  4.087808\n",
            "2            2  4.094        0.999      1  2.840817  4.098098  4.089906\n",
            "3            3  4.093        0.998      1  2.840817  4.101202  4.084814\n",
            "4            4  4.092        0.999      1  2.840817  4.096096  4.087908\n",
            "...        ...    ...          ...    ...       ...       ...       ...\n",
            "90977    90977  2.506        1.002      9  2.770180  2.500998  2.511012\n",
            "90978    90978  2.504        1.002      9  2.770180  2.499002  2.509008\n",
            "90979    90979  2.502        1.002      9  2.770180  2.497006  2.507004\n",
            "90980    90980  2.500        1.002      9  2.770180  2.495010  2.505000\n",
            "90981    90981  2.497        1.002      9  2.770180  2.492016  2.501994\n",
            "\n",
            "[90982 rows x 7 columns]\n"
          ],
          "name": "stdout"
        }
      ]
    },
    {
      "cell_type": "markdown",
      "metadata": {
        "id": "kO0R8Fr-s96A"
      },
      "source": [
        "###Menghitung hambatan baterai tiap waktunya untuk cycle ganjil dan genap"
      ]
    },
    {
      "cell_type": "code",
      "metadata": {
        "id": "EcrGoHi847jg"
      },
      "source": [
        "ganjil = df[['time(s)', 'V_m', 'Current (A)', 'Cycle', 'Cap', 'Hambatan']]\n",
        "genap = df[['time(s)', 'V_m', 'Current (A)', 'Cycle', 'Cap', 'Daya']]\n",
        "\n",
        "for i in df['Cycle']:\n",
        "  if (i%2==0):\n",
        "    print(genap)\n",
        "  else:\n",
        "    print(ganjil)"
      ],
      "execution_count": null,
      "outputs": []
    }
  ]
}