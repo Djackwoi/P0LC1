{
 "cells": [
  {
   "cell_type": "markdown",
   "id": "af0ac2e1",
   "metadata": {},
   "source": [
    "# Perkenalan"
   ]
  },
  {
   "cell_type": "markdown",
   "id": "b377786a",
   "metadata": {},
   "source": [
    "Saya I Wayan Budi(H8 FTDS-001), seorang Data Scientist dari PT Sangkuters Antam Battery akan melakukan perhitungan kondisi baterai "
   ]
  },
  {
   "cell_type": "markdown",
   "id": "dbcdda37",
   "metadata": {},
   "source": [
    "# LiveCode1 Phase0"
   ]
  },
  {
   "cell_type": "markdown",
   "id": "2e8d9c81",
   "metadata": {},
   "source": [
    "Problems\n",
    "\n",
    "Kamu adalah seorang data scientist yang bekerja di salah satu perusahaan manufaktur baterai Lithium ion. Tim produksi meminta kamu untuk mengecek apakah baterai yang mereka buat dalam kondisi bagus atau tidak. Sebelum melakukan pengecekan lebih lanjut, kamu diminta untuk menghitung hambatan/resistansi dan Daya setiap detik:\n",
    "\n",
    "[R=\\frac{V}{I}]\n",
    "\n",
    "[P=VI]\n",
    "\n",
    "    R adalah Kapasitas dalam satuan Ohm\n",
    "    P adalah Daya dalam Watt\n",
    "    I adalah kuat arus dalam satuan Ampere\n",
    "    V adalah tegangan dalam satuan Volt\n",
    "\n",
    "Hitung kapasitas baterai tiap waktunya untuk cycle ganjil dan daya baterai tiap waktunya untuk cycle genap dari dataset dengan ketentuan sebagai berikut:\n",
    "\n",
    "    Gunakan function untuk menghitung hambatan dan daya\n",
    "    Harus menerapkan konsep looping, conditional if, dan pandas query\n",
    "Dataset\n",
    "\n",
    "Dataset dapat diakses pada link berikut: https://github.com/fahmimnalfrzki/Dataset/blob/main/NMC1-9.xlsx?raw=true\n",
    "\n",
    "Keterangan kolom:\n",
    "\n",
    "    time(s): Detik ke- pengukuran\n",
    "    V_m: Voltage/tegangan yang terukur tiap waktu\n",
    "    Current (A): Kuat arus terukur tiap waktu\n",
    "    Cycle: Nomor siklus charge-discharge baterai\n",
    "    Cap: Kapasitas baterai tiap waktu\n"
   ]
  },
  {
   "cell_type": "markdown",
   "id": "d44a0c3c",
   "metadata": {},
   "source": [
    "# Import"
   ]
  },
  {
   "cell_type": "code",
   "execution_count": 6,
   "id": "8c7d81c3",
   "metadata": {},
   "outputs": [],
   "source": [
    "import pandas as pd #mengimpor pandas"
   ]
  },
  {
   "cell_type": "markdown",
   "id": "b967f288",
   "metadata": {},
   "source": [
    "# Data Loading"
   ]
  },
  {
   "cell_type": "code",
   "execution_count": 7,
   "id": "7dce4390",
   "metadata": {},
   "outputs": [
    {
     "data": {
      "text/plain": [
       "<bound method NDFrame.head of        time(s)    V_m  Current (A)  Cycle       Cap\n",
       "0            0  4.098        0.997      1  2.840817\n",
       "1            1  4.096        0.998      1  2.840817\n",
       "2            2  4.094        0.999      1  2.840817\n",
       "3            3  4.093        0.998      1  2.840817\n",
       "4            4  4.092        0.999      1  2.840817\n",
       "...        ...    ...          ...    ...       ...\n",
       "90977    90977  2.506        1.002      9  2.770180\n",
       "90978    90978  2.504        1.002      9  2.770180\n",
       "90979    90979  2.502        1.002      9  2.770180\n",
       "90980    90980  2.500        1.002      9  2.770180\n",
       "90981    90981  2.497        1.002      9  2.770180\n",
       "\n",
       "[90982 rows x 5 columns]>"
      ]
     },
     "execution_count": 7,
     "metadata": {},
     "output_type": "execute_result"
    }
   ],
   "source": [
    "df= pd.read_excel('NMC1-9.xlsx') #membaca excel"
   ]
  },
  {
   "cell_type": "markdown",
   "id": "cd69012e",
   "metadata": {},
   "source": [
    "# Answers"
   ]
  },
  {
   "cell_type": "code",
   "execution_count": null,
   "id": "92029bdb",
   "metadata": {},
   "outputs": [],
   "source": [
    "Membuat Function & Pandas Query"
   ]
  },
  {
   "cell_type": "code",
   "execution_count": 20,
   "id": "9a2c0537",
   "metadata": {},
   "outputs": [
    {
     "name": "stdout",
     "output_type": "stream",
     "text": [
      "<class 'pandas.core.frame.DataFrame'>\n",
      "RangeIndex: 90982 entries, 0 to 90981\n",
      "Data columns (total 7 columns):\n",
      " #   Column       Non-Null Count  Dtype  \n",
      "---  ------       --------------  -----  \n",
      " 0   time(s)      90982 non-null  int64  \n",
      " 1   V_m          90982 non-null  float64\n",
      " 2   Current (A)  90982 non-null  float64\n",
      " 3   Cycle        90982 non-null  int64  \n",
      " 4   Cap          90982 non-null  float64\n",
      " 5   Daya3        50540 non-null  float64\n",
      " 6   Hambatan3    40442 non-null  float64\n",
      "dtypes: float64(5), int64(2)\n",
      "memory usage: 4.9 MB\n"
     ]
    }
   ],
   "source": [
    "df.info()#query Pandas\n",
    "def hambatan(): #menghitung hambatan\n",
    "    df.loc[index,\"Hambatan3\"] = df.loc[index,\"V_m\"] / df.loc[index,\"Current (A)\"]\n",
    "    return df\n",
    "\n",
    "def daya():#menghitung daya\n",
    "    df.loc[index, \"Daya3\"] = df.loc[index, \"V_m\"] * df.loc[index, \"Current (A)\"]\n",
    "    return df\n"
   ]
  },
  {
   "cell_type": "markdown",
   "id": "e797622b",
   "metadata": {},
   "source": [
    "Terlihat jika 90982 baris data, dan 5 kolom dari data, sedangkan daya3 dan hambatan adalah tambahan"
   ]
  },
  {
   "cell_type": "code",
   "execution_count": null,
   "id": "768f3194",
   "metadata": {},
   "outputs": [],
   "source": [
    "Conditional If dan Loop, Pandas Query"
   ]
  },
  {
   "cell_type": "code",
   "execution_count": 11,
   "id": "1200e56a",
   "metadata": {},
   "outputs": [
    {
     "data": {
      "text/html": [
       "<div>\n",
       "<style scoped>\n",
       "    .dataframe tbody tr th:only-of-type {\n",
       "        vertical-align: middle;\n",
       "    }\n",
       "\n",
       "    .dataframe tbody tr th {\n",
       "        vertical-align: top;\n",
       "    }\n",
       "\n",
       "    .dataframe thead th {\n",
       "        text-align: right;\n",
       "    }\n",
       "</style>\n",
       "<table border=\"1\" class=\"dataframe\">\n",
       "  <thead>\n",
       "    <tr style=\"text-align: right;\">\n",
       "      <th></th>\n",
       "      <th>time(s)</th>\n",
       "      <th>V_m</th>\n",
       "      <th>Current (A)</th>\n",
       "      <th>Cycle</th>\n",
       "      <th>Cap</th>\n",
       "      <th>Daya3</th>\n",
       "      <th>Hambatan3</th>\n",
       "    </tr>\n",
       "  </thead>\n",
       "  <tbody>\n",
       "    <tr>\n",
       "      <th>0</th>\n",
       "      <td>0</td>\n",
       "      <td>4.098</td>\n",
       "      <td>0.997</td>\n",
       "      <td>1</td>\n",
       "      <td>2.840817</td>\n",
       "      <td>4.085706</td>\n",
       "      <td>NaN</td>\n",
       "    </tr>\n",
       "    <tr>\n",
       "      <th>1</th>\n",
       "      <td>1</td>\n",
       "      <td>4.096</td>\n",
       "      <td>0.998</td>\n",
       "      <td>1</td>\n",
       "      <td>2.840817</td>\n",
       "      <td>4.087808</td>\n",
       "      <td>NaN</td>\n",
       "    </tr>\n",
       "    <tr>\n",
       "      <th>2</th>\n",
       "      <td>2</td>\n",
       "      <td>4.094</td>\n",
       "      <td>0.999</td>\n",
       "      <td>1</td>\n",
       "      <td>2.840817</td>\n",
       "      <td>4.089906</td>\n",
       "      <td>NaN</td>\n",
       "    </tr>\n",
       "    <tr>\n",
       "      <th>3</th>\n",
       "      <td>3</td>\n",
       "      <td>4.093</td>\n",
       "      <td>0.998</td>\n",
       "      <td>1</td>\n",
       "      <td>2.840817</td>\n",
       "      <td>4.084814</td>\n",
       "      <td>NaN</td>\n",
       "    </tr>\n",
       "    <tr>\n",
       "      <th>4</th>\n",
       "      <td>4</td>\n",
       "      <td>4.092</td>\n",
       "      <td>0.999</td>\n",
       "      <td>1</td>\n",
       "      <td>2.840817</td>\n",
       "      <td>4.087908</td>\n",
       "      <td>NaN</td>\n",
       "    </tr>\n",
       "  </tbody>\n",
       "</table>\n",
       "</div>"
      ],
      "text/plain": [
       "   time(s)    V_m  Current (A)  Cycle       Cap     Daya3  Hambatan3\n",
       "0        0  4.098        0.997      1  2.840817  4.085706        NaN\n",
       "1        1  4.096        0.998      1  2.840817  4.087808        NaN\n",
       "2        2  4.094        0.999      1  2.840817  4.089906        NaN\n",
       "3        3  4.093        0.998      1  2.840817  4.084814        NaN\n",
       "4        4  4.092        0.999      1  2.840817  4.087908        NaN"
      ]
     },
     "execution_count": 11,
     "metadata": {},
     "output_type": "execute_result"
    }
   ],
   "source": [
    "for index, row in df.iterrows():\n",
    "    if df.loc[(index, \"Cycle\")] %2 ==0:\n",
    "        df.loc[index, \"Daya3\"] = df.loc[index, \"V_m\"] * df.loc[index, \"Current (A)\"]\n",
    "    else:\n",
    "        df.loc[index,\"Hambatan3\"] = df.loc[index,\"V_m\"] / df.loc[index,\"Current (A)\"] #kalkulasi \n",
    "df.head()"
   ]
  },
  {
   "cell_type": "code",
   "execution_count": null,
   "id": "ec4c563e",
   "metadata": {},
   "outputs": [],
   "source": [
    "Mohon maaf functionnya & hasil terakhirnya tidak dimasukkan karena menjalankan Query sangat lama"
   ]
  }
 ],
 "metadata": {
  "kernelspec": {
   "display_name": "Python 3",
   "language": "python",
   "name": "python3"
  }
 },
 "nbformat": 4,
 "nbformat_minor": 5
}
