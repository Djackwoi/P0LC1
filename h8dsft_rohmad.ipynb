{
 "cells": [
  {
   "cell_type": "markdown",
   "id": "d7056753",
   "metadata": {},
   "source": [
    "# 1. Perkenalan"
   ]
  },
  {
   "cell_type": "markdown",
   "id": "b61b644c",
   "metadata": {},
   "source": [
    "<b>Nama: Rohmad </b>\n",
    "\n",
    "<b>Tanggal: </b>05/07/2021\n",
    "\n",
    "<b>Materi: </b>Live Code\n",
    "\n",
    "<b>Dataset:</b>Dataset dapat diakses pada link berikut: https://github.com/fahmimnalfrzki/Dataset/blob/main/NMC1-9.xlsx?raw=true\n",
    "\n",
    "time(s): Detik ke- pengukuran\n",
    "V_m: Voltage/tegangan yang terukur tiap waktu\n",
    "Current (A): Kuat arus terukur tiap waktu\n",
    "Cycle: Nomor siklus charge-discharge baterai\n",
    "Cap: Kapasitas baterai tiap waktu\n",
    "\n",
    "<b>Objective:</b>menghitung hambatan/resistansi dan Daya setiap detik"
   ]
  },
  {
   "cell_type": "code",
   "execution_count": 2,
   "id": "48acde3f",
   "metadata": {},
   "outputs": [
    {
     "name": "stdout",
     "output_type": "stream",
     "text": [
      "1.20.1\n",
      "1.2.4\n"
     ]
    }
   ],
   "source": [
    "#import library\n",
    "import numpy as np\n",
    "import pandas as pd\n",
    "print(np.__version__)\n",
    "print(pd.__version__)"
   ]
  },
  {
   "cell_type": "markdown",
   "id": "df7859ef",
   "metadata": {},
   "source": [
    "# Data Loading"
   ]
  },
  {
   "cell_type": "markdown",
   "id": "d0765697",
   "metadata": {},
   "source": [
    "Load data dan melihat data teratas"
   ]
  },
  {
   "cell_type": "code",
   "execution_count": 5,
   "id": "36a1ac9c",
   "metadata": {},
   "outputs": [
    {
     "data": {
      "text/html": [
       "<div>\n",
       "<style scoped>\n",
       "    .dataframe tbody tr th:only-of-type {\n",
       "        vertical-align: middle;\n",
       "    }\n",
       "\n",
       "    .dataframe tbody tr th {\n",
       "        vertical-align: top;\n",
       "    }\n",
       "\n",
       "    .dataframe thead th {\n",
       "        text-align: right;\n",
       "    }\n",
       "</style>\n",
       "<table border=\"1\" class=\"dataframe\">\n",
       "  <thead>\n",
       "    <tr style=\"text-align: right;\">\n",
       "      <th></th>\n",
       "      <th>time(s)</th>\n",
       "      <th>V_m</th>\n",
       "      <th>Current (A)</th>\n",
       "      <th>Cycle</th>\n",
       "      <th>Cap</th>\n",
       "    </tr>\n",
       "  </thead>\n",
       "  <tbody>\n",
       "    <tr>\n",
       "      <th>0</th>\n",
       "      <td>0</td>\n",
       "      <td>4.098</td>\n",
       "      <td>0.997</td>\n",
       "      <td>1</td>\n",
       "      <td>2.840817</td>\n",
       "    </tr>\n",
       "    <tr>\n",
       "      <th>1</th>\n",
       "      <td>1</td>\n",
       "      <td>4.096</td>\n",
       "      <td>0.998</td>\n",
       "      <td>1</td>\n",
       "      <td>2.840817</td>\n",
       "    </tr>\n",
       "    <tr>\n",
       "      <th>2</th>\n",
       "      <td>2</td>\n",
       "      <td>4.094</td>\n",
       "      <td>0.999</td>\n",
       "      <td>1</td>\n",
       "      <td>2.840817</td>\n",
       "    </tr>\n",
       "    <tr>\n",
       "      <th>3</th>\n",
       "      <td>3</td>\n",
       "      <td>4.093</td>\n",
       "      <td>0.998</td>\n",
       "      <td>1</td>\n",
       "      <td>2.840817</td>\n",
       "    </tr>\n",
       "    <tr>\n",
       "      <th>4</th>\n",
       "      <td>4</td>\n",
       "      <td>4.092</td>\n",
       "      <td>0.999</td>\n",
       "      <td>1</td>\n",
       "      <td>2.840817</td>\n",
       "    </tr>\n",
       "  </tbody>\n",
       "</table>\n",
       "</div>"
      ],
      "text/plain": [
       "   time(s)    V_m  Current (A)  Cycle       Cap\n",
       "0        0  4.098        0.997      1  2.840817\n",
       "1        1  4.096        0.998      1  2.840817\n",
       "2        2  4.094        0.999      1  2.840817\n",
       "3        3  4.093        0.998      1  2.840817\n",
       "4        4  4.092        0.999      1  2.840817"
      ]
     },
     "execution_count": 5,
     "metadata": {},
     "output_type": "execute_result"
    }
   ],
   "source": [
    "df = pd.read_excel(\"NMC1-9.xlsx\")\n",
    "df.head() #melihat data teratas"
   ]
  },
  {
   "cell_type": "markdown",
   "id": "a6175b6f",
   "metadata": {},
   "source": [
    "melihat 5 data terbawah"
   ]
  },
  {
   "cell_type": "code",
   "execution_count": 6,
   "id": "3a141c40",
   "metadata": {},
   "outputs": [
    {
     "data": {
      "text/html": [
       "<div>\n",
       "<style scoped>\n",
       "    .dataframe tbody tr th:only-of-type {\n",
       "        vertical-align: middle;\n",
       "    }\n",
       "\n",
       "    .dataframe tbody tr th {\n",
       "        vertical-align: top;\n",
       "    }\n",
       "\n",
       "    .dataframe thead th {\n",
       "        text-align: right;\n",
       "    }\n",
       "</style>\n",
       "<table border=\"1\" class=\"dataframe\">\n",
       "  <thead>\n",
       "    <tr style=\"text-align: right;\">\n",
       "      <th></th>\n",
       "      <th>time(s)</th>\n",
       "      <th>V_m</th>\n",
       "      <th>Current (A)</th>\n",
       "      <th>Cycle</th>\n",
       "      <th>Cap</th>\n",
       "    </tr>\n",
       "  </thead>\n",
       "  <tbody>\n",
       "    <tr>\n",
       "      <th>90977</th>\n",
       "      <td>90977</td>\n",
       "      <td>2.506</td>\n",
       "      <td>1.002</td>\n",
       "      <td>9</td>\n",
       "      <td>2.77018</td>\n",
       "    </tr>\n",
       "    <tr>\n",
       "      <th>90978</th>\n",
       "      <td>90978</td>\n",
       "      <td>2.504</td>\n",
       "      <td>1.002</td>\n",
       "      <td>9</td>\n",
       "      <td>2.77018</td>\n",
       "    </tr>\n",
       "    <tr>\n",
       "      <th>90979</th>\n",
       "      <td>90979</td>\n",
       "      <td>2.502</td>\n",
       "      <td>1.002</td>\n",
       "      <td>9</td>\n",
       "      <td>2.77018</td>\n",
       "    </tr>\n",
       "    <tr>\n",
       "      <th>90980</th>\n",
       "      <td>90980</td>\n",
       "      <td>2.500</td>\n",
       "      <td>1.002</td>\n",
       "      <td>9</td>\n",
       "      <td>2.77018</td>\n",
       "    </tr>\n",
       "    <tr>\n",
       "      <th>90981</th>\n",
       "      <td>90981</td>\n",
       "      <td>2.497</td>\n",
       "      <td>1.002</td>\n",
       "      <td>9</td>\n",
       "      <td>2.77018</td>\n",
       "    </tr>\n",
       "  </tbody>\n",
       "</table>\n",
       "</div>"
      ],
      "text/plain": [
       "       time(s)    V_m  Current (A)  Cycle      Cap\n",
       "90977    90977  2.506        1.002      9  2.77018\n",
       "90978    90978  2.504        1.002      9  2.77018\n",
       "90979    90979  2.502        1.002      9  2.77018\n",
       "90980    90980  2.500        1.002      9  2.77018\n",
       "90981    90981  2.497        1.002      9  2.77018"
      ]
     },
     "execution_count": 6,
     "metadata": {},
     "output_type": "execute_result"
    }
   ],
   "source": [
    "df.tail() #melihat data terbawah"
   ]
  },
  {
   "cell_type": "markdown",
   "id": "094227b7",
   "metadata": {},
   "source": [
    "melihat tipe data yang ada di dataset"
   ]
  },
  {
   "cell_type": "code",
   "execution_count": 7,
   "id": "4b9eaff6",
   "metadata": {},
   "outputs": [
    {
     "name": "stdout",
     "output_type": "stream",
     "text": [
      "<class 'pandas.core.frame.DataFrame'>\n",
      "RangeIndex: 90982 entries, 0 to 90981\n",
      "Data columns (total 5 columns):\n",
      " #   Column       Non-Null Count  Dtype  \n",
      "---  ------       --------------  -----  \n",
      " 0   time(s)      90982 non-null  int64  \n",
      " 1   V_m          90982 non-null  float64\n",
      " 2   Current (A)  90982 non-null  float64\n",
      " 3   Cycle        90982 non-null  int64  \n",
      " 4   Cap          90982 non-null  float64\n",
      "dtypes: float64(3), int64(2)\n",
      "memory usage: 3.5 MB\n"
     ]
    }
   ],
   "source": [
    "df.info() #melihat jenis tipe data"
   ]
  },
  {
   "cell_type": "markdown",
   "id": "a8624b9c",
   "metadata": {},
   "source": [
    "mnegecek presentase yang ada didataset"
   ]
  },
  {
   "cell_type": "code",
   "execution_count": 12,
   "id": "9d21af1c",
   "metadata": {},
   "outputs": [
    {
     "data": {
      "text/plain": [
       "time(s)        0.0\n",
       "V_m            0.0\n",
       "Current (A)    0.0\n",
       "Cycle          0.0\n",
       "Cap            0.0\n",
       "dtype: float64"
      ]
     },
     "execution_count": 12,
     "metadata": {},
     "output_type": "execute_result"
    }
   ],
   "source": [
    "df.isna().mean() #melihat presentase null"
   ]
  },
  {
   "cell_type": "markdown",
   "id": "f442d459",
   "metadata": {},
   "source": [
    "melihat jumlah yang ada di dataset"
   ]
  },
  {
   "cell_type": "code",
   "execution_count": 13,
   "id": "a6983af9",
   "metadata": {},
   "outputs": [
    {
     "data": {
      "text/plain": [
       "time(s)        0\n",
       "V_m            0\n",
       "Current (A)    0\n",
       "Cycle          0\n",
       "Cap            0\n",
       "dtype: int64"
      ]
     },
     "execution_count": 13,
     "metadata": {},
     "output_type": "execute_result"
    }
   ],
   "source": [
    "df.isnull().sum() #melihat jika ada value yang null"
   ]
  },
  {
   "cell_type": "markdown",
   "id": "5006c811",
   "metadata": {},
   "source": [
    "melihat summary keseluruhan di dataset"
   ]
  },
  {
   "cell_type": "code",
   "execution_count": 8,
   "id": "4265ea4e",
   "metadata": {},
   "outputs": [
    {
     "data": {
      "text/html": [
       "<div>\n",
       "<style scoped>\n",
       "    .dataframe tbody tr th:only-of-type {\n",
       "        vertical-align: middle;\n",
       "    }\n",
       "\n",
       "    .dataframe tbody tr th {\n",
       "        vertical-align: top;\n",
       "    }\n",
       "\n",
       "    .dataframe thead th {\n",
       "        text-align: right;\n",
       "    }\n",
       "</style>\n",
       "<table border=\"1\" class=\"dataframe\">\n",
       "  <thead>\n",
       "    <tr style=\"text-align: right;\">\n",
       "      <th></th>\n",
       "      <th>time(s)</th>\n",
       "      <th>V_m</th>\n",
       "      <th>Current (A)</th>\n",
       "      <th>Cycle</th>\n",
       "      <th>Cap</th>\n",
       "    </tr>\n",
       "  </thead>\n",
       "  <tbody>\n",
       "    <tr>\n",
       "      <th>count</th>\n",
       "      <td>90982.000000</td>\n",
       "      <td>90982.000000</td>\n",
       "      <td>90982.000000</td>\n",
       "      <td>90982.000000</td>\n",
       "      <td>90982.000000</td>\n",
       "    </tr>\n",
       "    <tr>\n",
       "      <th>mean</th>\n",
       "      <td>45490.500000</td>\n",
       "      <td>3.607666</td>\n",
       "      <td>0.999264</td>\n",
       "      <td>4.978699</td>\n",
       "      <td>2.806214</td>\n",
       "    </tr>\n",
       "    <tr>\n",
       "      <th>std</th>\n",
       "      <td>26264.385433</td>\n",
       "      <td>0.322777</td>\n",
       "      <td>0.001997</td>\n",
       "      <td>2.582135</td>\n",
       "      <td>0.023283</td>\n",
       "    </tr>\n",
       "    <tr>\n",
       "      <th>min</th>\n",
       "      <td>0.000000</td>\n",
       "      <td>2.497000</td>\n",
       "      <td>0.993000</td>\n",
       "      <td>1.000000</td>\n",
       "      <td>2.770180</td>\n",
       "    </tr>\n",
       "    <tr>\n",
       "      <th>25%</th>\n",
       "      <td>22745.250000</td>\n",
       "      <td>3.422000</td>\n",
       "      <td>0.997000</td>\n",
       "      <td>3.000000</td>\n",
       "      <td>2.786860</td>\n",
       "    </tr>\n",
       "    <tr>\n",
       "      <th>50%</th>\n",
       "      <td>45490.500000</td>\n",
       "      <td>3.636000</td>\n",
       "      <td>0.999000</td>\n",
       "      <td>5.000000</td>\n",
       "      <td>2.804878</td>\n",
       "    </tr>\n",
       "    <tr>\n",
       "      <th>75%</th>\n",
       "      <td>68235.750000</td>\n",
       "      <td>3.868000</td>\n",
       "      <td>1.001000</td>\n",
       "      <td>7.000000</td>\n",
       "      <td>2.823520</td>\n",
       "    </tr>\n",
       "    <tr>\n",
       "      <th>max</th>\n",
       "      <td>90981.000000</td>\n",
       "      <td>4.114000</td>\n",
       "      <td>1.003000</td>\n",
       "      <td>9.000000</td>\n",
       "      <td>2.840817</td>\n",
       "    </tr>\n",
       "  </tbody>\n",
       "</table>\n",
       "</div>"
      ],
      "text/plain": [
       "            time(s)           V_m   Current (A)         Cycle           Cap\n",
       "count  90982.000000  90982.000000  90982.000000  90982.000000  90982.000000\n",
       "mean   45490.500000      3.607666      0.999264      4.978699      2.806214\n",
       "std    26264.385433      0.322777      0.001997      2.582135      0.023283\n",
       "min        0.000000      2.497000      0.993000      1.000000      2.770180\n",
       "25%    22745.250000      3.422000      0.997000      3.000000      2.786860\n",
       "50%    45490.500000      3.636000      0.999000      5.000000      2.804878\n",
       "75%    68235.750000      3.868000      1.001000      7.000000      2.823520\n",
       "max    90981.000000      4.114000      1.003000      9.000000      2.840817"
      ]
     },
     "execution_count": 8,
     "metadata": {},
     "output_type": "execute_result"
    }
   ],
   "source": [
    "df.describe() #melihat value dari dataset"
   ]
  },
  {
   "cell_type": "markdown",
   "id": "d661cbfb",
   "metadata": {},
   "source": [
    "Menghitung hambatan"
   ]
  },
  {
   "cell_type": "code",
   "execution_count": 31,
   "id": "a609c4ed",
   "metadata": {},
   "outputs": [
    {
     "name": "stdout",
     "output_type": "stream",
     "text": [
      "2.5009980039920157\n"
     ]
    }
   ],
   "source": [
    "def hamabatan(V, I):\n",
    "    print(V/I)\n",
    "hamabatan(2.506,1.002) # menghitung hambatan"
   ]
  },
  {
   "cell_type": "markdown",
   "id": "88095f5d",
   "metadata": {},
   "source": [
    "Menghitung Daya"
   ]
  },
  {
   "cell_type": "code",
   "execution_count": 35,
   "id": "4736e392",
   "metadata": {},
   "outputs": [
    {
     "name": "stdout",
     "output_type": "stream",
     "text": [
      "2.5110119999999996\n"
     ]
    }
   ],
   "source": [
    "def daya(V,I):\n",
    "    print(V*I)\n",
    "daya(2.506,1.002)"
   ]
  },
  {
   "cell_type": "code",
   "execution_count": null,
   "id": "ddafa44a",
   "metadata": {},
   "outputs": [],
   "source": [
    "      "
   ]
  },
  {
   "cell_type": "markdown",
   "id": "ff899f7c",
   "metadata": {},
   "source": [
    "# Pandas Query"
   ]
  },
  {
   "cell_type": "markdown",
   "id": "e21d86bb",
   "metadata": {},
   "source": [
    "melihat voltase dengan kondisi di atas 1.000"
   ]
  },
  {
   "cell_type": "code",
   "execution_count": 27,
   "id": "116cdb9a",
   "metadata": {},
   "outputs": [
    {
     "data": {
      "text/html": [
       "<div>\n",
       "<style scoped>\n",
       "    .dataframe tbody tr th:only-of-type {\n",
       "        vertical-align: middle;\n",
       "    }\n",
       "\n",
       "    .dataframe tbody tr th {\n",
       "        vertical-align: top;\n",
       "    }\n",
       "\n",
       "    .dataframe thead th {\n",
       "        text-align: right;\n",
       "    }\n",
       "</style>\n",
       "<table border=\"1\" class=\"dataframe\">\n",
       "  <thead>\n",
       "    <tr style=\"text-align: right;\">\n",
       "      <th></th>\n",
       "      <th>time(s)</th>\n",
       "      <th>V_m</th>\n",
       "      <th>Current (A)</th>\n",
       "      <th>Cycle</th>\n",
       "      <th>Cap</th>\n",
       "    </tr>\n",
       "  </thead>\n",
       "  <tbody>\n",
       "    <tr>\n",
       "      <th>0</th>\n",
       "      <td>0</td>\n",
       "      <td>4.098</td>\n",
       "      <td>0.997</td>\n",
       "      <td>1</td>\n",
       "      <td>2.840817</td>\n",
       "    </tr>\n",
       "    <tr>\n",
       "      <th>1</th>\n",
       "      <td>1</td>\n",
       "      <td>4.096</td>\n",
       "      <td>0.998</td>\n",
       "      <td>1</td>\n",
       "      <td>2.840817</td>\n",
       "    </tr>\n",
       "    <tr>\n",
       "      <th>2</th>\n",
       "      <td>2</td>\n",
       "      <td>4.094</td>\n",
       "      <td>0.999</td>\n",
       "      <td>1</td>\n",
       "      <td>2.840817</td>\n",
       "    </tr>\n",
       "    <tr>\n",
       "      <th>3</th>\n",
       "      <td>3</td>\n",
       "      <td>4.093</td>\n",
       "      <td>0.998</td>\n",
       "      <td>1</td>\n",
       "      <td>2.840817</td>\n",
       "    </tr>\n",
       "    <tr>\n",
       "      <th>4</th>\n",
       "      <td>4</td>\n",
       "      <td>4.092</td>\n",
       "      <td>0.999</td>\n",
       "      <td>1</td>\n",
       "      <td>2.840817</td>\n",
       "    </tr>\n",
       "    <tr>\n",
       "      <th>...</th>\n",
       "      <td>...</td>\n",
       "      <td>...</td>\n",
       "      <td>...</td>\n",
       "      <td>...</td>\n",
       "      <td>...</td>\n",
       "    </tr>\n",
       "    <tr>\n",
       "      <th>90977</th>\n",
       "      <td>90977</td>\n",
       "      <td>2.506</td>\n",
       "      <td>1.002</td>\n",
       "      <td>9</td>\n",
       "      <td>2.770180</td>\n",
       "    </tr>\n",
       "    <tr>\n",
       "      <th>90978</th>\n",
       "      <td>90978</td>\n",
       "      <td>2.504</td>\n",
       "      <td>1.002</td>\n",
       "      <td>9</td>\n",
       "      <td>2.770180</td>\n",
       "    </tr>\n",
       "    <tr>\n",
       "      <th>90979</th>\n",
       "      <td>90979</td>\n",
       "      <td>2.502</td>\n",
       "      <td>1.002</td>\n",
       "      <td>9</td>\n",
       "      <td>2.770180</td>\n",
       "    </tr>\n",
       "    <tr>\n",
       "      <th>90980</th>\n",
       "      <td>90980</td>\n",
       "      <td>2.500</td>\n",
       "      <td>1.002</td>\n",
       "      <td>9</td>\n",
       "      <td>2.770180</td>\n",
       "    </tr>\n",
       "    <tr>\n",
       "      <th>90981</th>\n",
       "      <td>90981</td>\n",
       "      <td>2.497</td>\n",
       "      <td>1.002</td>\n",
       "      <td>9</td>\n",
       "      <td>2.770180</td>\n",
       "    </tr>\n",
       "  </tbody>\n",
       "</table>\n",
       "<p>90982 rows × 5 columns</p>\n",
       "</div>"
      ],
      "text/plain": [
       "       time(s)    V_m  Current (A)  Cycle       Cap\n",
       "0            0  4.098        0.997      1  2.840817\n",
       "1            1  4.096        0.998      1  2.840817\n",
       "2            2  4.094        0.999      1  2.840817\n",
       "3            3  4.093        0.998      1  2.840817\n",
       "4            4  4.092        0.999      1  2.840817\n",
       "...        ...    ...          ...    ...       ...\n",
       "90977    90977  2.506        1.002      9  2.770180\n",
       "90978    90978  2.504        1.002      9  2.770180\n",
       "90979    90979  2.502        1.002      9  2.770180\n",
       "90980    90980  2.500        1.002      9  2.770180\n",
       "90981    90981  2.497        1.002      9  2.770180\n",
       "\n",
       "[90982 rows x 5 columns]"
      ]
     },
     "execution_count": 27,
     "metadata": {},
     "output_type": "execute_result"
    }
   ],
   "source": [
    "voltase = df[df['V_m'] > 1.000] #melihat volatase dengan kondisi di atas 1.000\n",
    "voltase"
   ]
  },
  {
   "cell_type": "markdown",
   "id": "ab860b8c",
   "metadata": {},
   "source": [
    "melihat volatase dengan kondisi volatase = 4.096 dan kuat arus = 0.998 dan siklus = 7"
   ]
  },
  {
   "cell_type": "code",
   "execution_count": 25,
   "id": "aa6e2ad0",
   "metadata": {},
   "outputs": [
    {
     "data": {
      "text/html": [
       "<div>\n",
       "<style scoped>\n",
       "    .dataframe tbody tr th:only-of-type {\n",
       "        vertical-align: middle;\n",
       "    }\n",
       "\n",
       "    .dataframe tbody tr th {\n",
       "        vertical-align: top;\n",
       "    }\n",
       "\n",
       "    .dataframe thead th {\n",
       "        text-align: right;\n",
       "    }\n",
       "</style>\n",
       "<table border=\"1\" class=\"dataframe\">\n",
       "  <thead>\n",
       "    <tr style=\"text-align: right;\">\n",
       "      <th></th>\n",
       "      <th>time(s)</th>\n",
       "      <th>V_m</th>\n",
       "      <th>Current (A)</th>\n",
       "      <th>Cycle</th>\n",
       "      <th>Cap</th>\n",
       "    </tr>\n",
       "  </thead>\n",
       "  <tbody>\n",
       "    <tr>\n",
       "      <th>60951</th>\n",
       "      <td>60951</td>\n",
       "      <td>4.096</td>\n",
       "      <td>1.0</td>\n",
       "      <td>7</td>\n",
       "      <td>2.78686</td>\n",
       "    </tr>\n",
       "    <tr>\n",
       "      <th>60952</th>\n",
       "      <td>60952</td>\n",
       "      <td>4.096</td>\n",
       "      <td>1.0</td>\n",
       "      <td>7</td>\n",
       "      <td>2.78686</td>\n",
       "    </tr>\n",
       "  </tbody>\n",
       "</table>\n",
       "</div>"
      ],
      "text/plain": [
       "       time(s)    V_m  Current (A)  Cycle      Cap\n",
       "60951    60951  4.096          1.0      7  2.78686\n",
       "60952    60952  4.096          1.0      7  2.78686"
      ]
     },
     "execution_count": 25,
     "metadata": {},
     "output_type": "execute_result"
    }
   ],
   "source": [
    "df[\n",
    "    (df['V_m'] == 4.096) &\n",
    "    (df['Current (A)'] > 0.998) &\n",
    "    (df['Cycle'] == 7)\n",
    "]"
   ]
  },
  {
   "cell_type": "code",
   "execution_count": null,
   "id": "69ed5685",
   "metadata": {},
   "outputs": [],
   "source": []
  },
  {
   "cell_type": "code",
   "execution_count": null,
   "id": "c1f07a4e",
   "metadata": {},
   "outputs": [],
   "source": []
  }
 ],
 "metadata": {
  "kernelspec": {
   "display_name": "Python 3",
   "language": "python",
   "name": "python3"
  },
  "language_info": {
   "codemirror_mode": {
    "name": "ipython",
    "version": 3
   },
   "file_extension": ".py",
   "mimetype": "text/x-python",
   "name": "python",
   "nbconvert_exporter": "python",
   "pygments_lexer": "ipython3",
   "version": "3.8.8"
  }
 },
 "nbformat": 4,
 "nbformat_minor": 5
}
