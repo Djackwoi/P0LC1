{
 "cells": [
  {
   "cell_type": "markdown",
   "metadata": {},
   "source": [
    "# Winwin, Batch 01 LC 01"
   ]
  },
  {
   "cell_type": "code",
   "execution_count": null,
   "metadata": {},
   "outputs": [],
   "source": [
    "import pandas as pd\n",
    "import numpy as np\n",
    "import matplotlib.pyplot as plt\n",
    "missing_values =  [\"NaN\"] # checking the missing vallues\n",
    "battery = pd.read_excel(\"NMC1-9.xlsx\",delimiter=',', na_values = missing_values)\n",
    "battery.head()\n",
    "print(battery)"
   ]
  },
  {
   "cell_type": "markdown",
   "metadata": {},
   "source": [
    "# Menghitung Hambatan berdasarkan cycle"
   ]
  },
  {
   "cell_type": "code",
   "execution_count": null,
   "metadata": {},
   "outputs": [],
   "source": [
    "r = battery['Current (A)']\n",
    "v = battery['V_m']\n",
    "c = battery['Cycle']\n",
    "\n",
    "def resistance(r,v):\n",
    "    \"Function menghitung resistance\"\n",
    "    if c % 2 == 0: # untuk cyle genap\n",
    "        resistance = v/r\n",
    "        return\n",
    "    elif c % 2 + 1: # untuk cyle ganjil\n",
    "        resistance = v/r\n",
    "        return\n",
    "    \n",
    "print(resistance)\n"
   ]
  },
  {
   "cell_type": "markdown",
   "metadata": {},
   "source": [
    "# Menghitung Daya berdasarkan cycle"
   ]
  },
  {
   "cell_type": "code",
   "execution_count": null,
   "metadata": {},
   "outputs": [],
   "source": [
    "r = battery['Current (A)'] \n",
    "v = battery['V_m']\n",
    "c = battery['Cycle']\n",
    "\n",
    "def voltage(r,v):\n",
    "    \"Function menghitung voltage\"\n",
    "    if c % 2 == 0: # untuk cyle genap\n",
    "        voltage = v*r\n",
    "        return\n",
    "    elif c % 2 + 1: # untuk cyle ganjil\n",
    "        voltage = v*r \n",
    "        return\n",
    "    \n",
    "print(voltage)"
   ]
  },
  {
   "cell_type": "markdown",
   "metadata": {},
   "source": [
    "# Menghitung Hambatan berdasarkan times"
   ]
  },
  {
   "cell_type": "code",
   "execution_count": null,
   "metadata": {},
   "outputs": [],
   "source": [
    "r = battery['Current (A)']\n",
    "v = battery['V_m']\n",
    "t = battery['time(s)']\n",
    "\n",
    "def resistance(r,v):\n",
    "    \"Function menghitung resistance\"\n",
    "    if t % 2 == 0: # untuk cyle genap\n",
    "        resistance = v/r\n",
    "        return\n",
    "    elif t % 2 + 1: # untuk cyle ganjil\n",
    "        resistance = v/r\n",
    "        return\n",
    "    \n",
    "print(resistance)"
   ]
  },
  {
   "cell_type": "markdown",
   "metadata": {},
   "source": [
    "# Menghitung Daya berdasarkan cycle"
   ]
  },
  {
   "cell_type": "code",
   "execution_count": null,
   "metadata": {},
   "outputs": [],
   "source": [
    "r = battery['Current (A)']\n",
    "v = battery['V_m']\n",
    "t = battery['time(s)']\n",
    "\n",
    "def voltage(r,v):\n",
    "    \"Function menghitung resistance\"\n",
    "    if t % 2 == 0: # untuk cyle genap\n",
    "        voltage = v*r\n",
    "        return\n",
    "        print(resistance)\n",
    "    elif t % 2 + 1: # untuk cyle ganjil\n",
    "        volatge = v*r\n",
    "        return\n",
    "    \n",
    "print(voltage)"
   ]
  }
 ],
 "metadata": {
  "kernelspec": {
   "display_name": "Python 3",
   "language": "python",
   "name": "python3"
  },
  "language_info": {
   "codemirror_mode": {
    "name": "ipython",
    "version": 3
   },
   "file_extension": ".py",
   "mimetype": "text/x-python",
   "name": "python",
   "nbconvert_exporter": "python",
   "pygments_lexer": "ipython3",
   "version": "3.6.8"
  }
 },
 "nbformat": 4,
 "nbformat_minor": 2
}
